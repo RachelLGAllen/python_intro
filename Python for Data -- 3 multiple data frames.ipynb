{
 "cells": [
  {
   "cell_type": "code",
   "execution_count": 1,
   "id": "b0e62511",
   "metadata": {},
   "outputs": [],
   "source": [
    "\n",
    "import pandas as pd\n",
    "import numpy as np\n",
    "import os"
   ]
  },
  {
   "cell_type": "code",
   "execution_count": 2,
   "id": "bf9e4c86",
   "metadata": {},
   "outputs": [],
   "source": [
    "#merge new_df = pd.merge(df1, df2)\n",
    "\n",
    "#or\n",
    "\n",
    "# new_df = df1.merge(df2)\n",
    "\n",
    "# chain merges:\n",
    "\n",
    "#big_df = df1.merge(df2).merge(df3)\n",
    "\n",
    "\n",
    "#merge on id columns by renaming \n",
    "\n",
    "#pd.merge( orders, customers.rename(columns={'id': 'customer_id'}))\n",
    "\n",
    "#pd.merge( orders,  customers,    left_on='customer_id',  right_on='id')\n",
    "    \n",
    "    #creates id_x and id_y bc you can't have two columns with the same name\n",
    "\n",
    "#pd.merge(   orders,    customers,   left_on='customer_id',   right_on='id',   suffixes=['_order', '_customer'])\n",
    "    #lets you rename the suffixes to match the dataframes"
   ]
  },
  {
   "cell_type": "code",
   "execution_count": 3,
   "id": "f3beb561",
   "metadata": {},
   "outputs": [],
   "source": [
    "#don't lose data, use an outer merge\n",
    "\n",
    "# pd.merge(company_a, company_b, how='outer')"
   ]
  },
  {
   "cell_type": "code",
   "execution_count": 4,
   "id": "47f859f8",
   "metadata": {},
   "outputs": [],
   "source": [
    "# how = 'left' ---- keep all info from left df\n",
    "# how = 'right'"
   ]
  },
  {
   "cell_type": "code",
   "execution_count": null,
   "id": "62aa42f5",
   "metadata": {},
   "outputs": [],
   "source": [
    "#concatenation\n",
    "\n",
    "#pd.concat([df1, df2])"
   ]
  }
 ],
 "metadata": {
  "kernelspec": {
   "display_name": "Python 3 (ipykernel)",
   "language": "python",
   "name": "python3"
  },
  "language_info": {
   "codemirror_mode": {
    "name": "ipython",
    "version": 3
   },
   "file_extension": ".py",
   "mimetype": "text/x-python",
   "name": "python",
   "nbconvert_exporter": "python",
   "pygments_lexer": "ipython3",
   "version": "3.9.7"
  }
 },
 "nbformat": 4,
 "nbformat_minor": 5
}
