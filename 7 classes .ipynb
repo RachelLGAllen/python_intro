{
 "cells": [
  {
   "cell_type": "code",
   "execution_count": 1,
   "id": "f6a21a6b",
   "metadata": {},
   "outputs": [],
   "source": [
    "import pandas as pd\n",
    "import numpy as np\n",
    "import os"
   ]
  },
  {
   "cell_type": "code",
   "execution_count": 2,
   "id": "c6a6022e",
   "metadata": {},
   "outputs": [],
   "source": [
    "#Create a Menu class \n",
    "#Give Menu a constructor with the five parameters self, name, items, start_time, and end_time.\n",
    "\n",
    "class Menu:\n",
    "  def __init__(self, name, items, start_time, end_time):\n",
    "    self.name = name\n",
    "    self.items = items\n",
    "    self.start_time = start_time\n",
    "    self.end_time = end_time"
   ]
  },
  {
   "cell_type": "code",
   "execution_count": 3,
   "id": "524d70c3",
   "metadata": {},
   "outputs": [],
   "source": [
    "# Let’s create our first menu: brunch\n",
    "\n",
    "brunch_items = {\n",
    "  'pancakes': 7.50, 'waffles': 9.00, 'burger': 11.00, 'home fries': 4.50, 'coffee': 1.50, 'espresso': 3.00, 'tea': 1.00, 'mimosa': 10.50, 'orange juice': 3.50\n",
    "}\n",
    "\n",
    "brunch_menu = Menu('Brunch', brunch_items, 1100, 1600)\n"
   ]
  },
  {
   "cell_type": "code",
   "execution_count": 4,
   "id": "41523ae3",
   "metadata": {},
   "outputs": [],
   "source": [
    "early_bird_items = {\n",
    "  'salumeria plate': 8.00, 'salad and breadsticks (serves 2, no refills)': 14.00, 'pizza with quattro formaggi': 9.00, 'duck ragu': 17.50, 'mushroom ravioli (vegan)': 13.50, 'coffee': 1.50, 'espresso': 3.00,\n",
    "}\n",
    "\n",
    "early_bird = Menu('Early Bird', early_bird_items, 1500, 1800)"
   ]
  },
  {
   "cell_type": "code",
   "execution_count": 5,
   "id": "149e9b5f",
   "metadata": {},
   "outputs": [],
   "source": [
    "dinner_items = {\n",
    "  'crostini with eggplant caponata': 13.00, 'caesar salad': 16.00, 'pizza with quattro formaggi': 11.00, 'duck ragu': 19.50, 'mushroom ravioli (vegan)': 13.50, 'coffee': 2.00, 'espresso': 3.00,\n",
    "}\n",
    "\n",
    "dinner_menu = Menu('Dinner', dinner_items, 1700, 2300)\n"
   ]
  },
  {
   "cell_type": "code",
   "execution_count": 22,
   "id": "0b66395a",
   "metadata": {},
   "outputs": [],
   "source": [
    "kids_items = {\n",
    "  'chicken nuggets': 6.50, 'fusilli with wild mushrooms': 12.00, 'apple juice': 3.00\n",
    "}\n",
    "\n",
    "kids_menu = Menu('Kids', kids_items, 1100, 2100)\n"
   ]
  },
  {
   "cell_type": "code",
   "execution_count": 7,
   "id": "ef9c943d",
   "metadata": {},
   "outputs": [],
   "source": [
    "# Give our Menu class a string representation method that will tell you the name of the menu. Also, indicate in this representation when the menu is available."
   ]
  },
  {
   "cell_type": "code",
   "execution_count": 23,
   "id": "5a72c18e",
   "metadata": {},
   "outputs": [],
   "source": [
    "class Menu:\n",
    "  def __init__(self, name, items, start_time, end_time):\n",
    "    self.name = name\n",
    "    self.items = items\n",
    "    self.start_time = start_time\n",
    "    self.end_time = end_time\n",
    "\n",
    "  def __repr__(self):\n",
    "    return self.name + ' menu available from ' + str(self.start_time) + ' to ' + str(self.end_time)\n"
   ]
  },
  {
   "cell_type": "code",
   "execution_count": 10,
   "id": "b51ad203",
   "metadata": {},
   "outputs": [
    {
     "name": "stdout",
     "output_type": "stream",
     "text": [
      "Brunch\n"
     ]
    }
   ],
   "source": [
    "print(brunch_menu.name)"
   ]
  },
  {
   "cell_type": "code",
   "execution_count": 13,
   "id": "1822ed06",
   "metadata": {},
   "outputs": [
    {
     "name": "stdout",
     "output_type": "stream",
     "text": [
      "<__main__.Menu object at 0x7ff6498715b0>\n"
     ]
    }
   ],
   "source": [
    "print(dinner_menu)\n",
    "\n",
    "# this does work normally but because I didn't do it all up at the top it's not working"
   ]
  },
  {
   "cell_type": "code",
   "execution_count": 14,
   "id": "fb5460ec",
   "metadata": {},
   "outputs": [],
   "source": [
    "#Give Menu a method .calculate_bill() that has two parameters: self, and purchased_items, a list of the names of purchased items.\n",
    "\n",
    "# Have calculate_bill return the total price of a purchase consisting of all the items in purchased_items."
   ]
  },
  {
   "cell_type": "code",
   "execution_count": 24,
   "id": "e3d4939d",
   "metadata": {},
   "outputs": [],
   "source": [
    "class Menu:\n",
    "  def __init__(self, name, items, start_time, end_time):\n",
    "    self.name = name\n",
    "    self.items = items\n",
    "    self.start_time = start_time\n",
    "    self.end_time = end_time\n",
    "\n",
    "  def __repr__(self):\n",
    "    return self.name + ' menu available from ' + str(self.start_time) + ' to ' + str(self.end_time)\n",
    "\n",
    "  def calculate_bill(self, purchased_items):\n",
    "    bill = 0\n",
    "    for purchased_item in  purchased_items:\n",
    "      #make sure they are available\n",
    "      if purchased_item in self.items:\n",
    "        bill += self.items[purchased_item]\n",
    "    return bill"
   ]
  },
  {
   "cell_type": "code",
   "execution_count": 17,
   "id": "f7bbcc19",
   "metadata": {},
   "outputs": [],
   "source": [
    "# print(brunch_menu.calculate_bill(['pancakes', 'home fries', 'coffee']))\n",
    "\n",
    "#ibid "
   ]
  },
  {
   "cell_type": "code",
   "execution_count": 25,
   "id": "ccf3044b",
   "metadata": {},
   "outputs": [],
   "source": [
    "class Franchise:\n",
    "  def __init__(self, address, menus):\n",
    "    self.address = address\n",
    "    self.menus = menus \n",
    "  def __repr__(self):\n",
    "    return 'This restaurant is located at ' + self.address\n",
    "  def available_menus(self, time):\n",
    "    available_menus = []\n",
    "    for menu in self.menus:\n",
    "      if time >= menu.start_time and time < menu.end_time:\n",
    "        available_menus.append(menu)\n",
    "      return available_menus"
   ]
  },
  {
   "cell_type": "code",
   "execution_count": 26,
   "id": "aeb95073",
   "metadata": {},
   "outputs": [
    {
     "name": "stdout",
     "output_type": "stream",
     "text": [
      "This restaurant is located at 1232 West End Road\n"
     ]
    }
   ],
   "source": [
    "menus = [brunch_menu, early_bird, dinner_menu, kids_menu]\n",
    "\n",
    "flagship_store = Franchise('1232 West End Road', menus)\n",
    "\n",
    "new_installment = Franchise('12 East Mulberry Street', menus)\n",
    "\n",
    "print(flagship_store)"
   ]
  },
  {
   "cell_type": "code",
   "execution_count": 27,
   "id": "f5b4c4e2",
   "metadata": {},
   "outputs": [
    {
     "name": "stdout",
     "output_type": "stream",
     "text": [
      "[<__main__.Menu object at 0x7ff649871610>]\n",
      "[]\n"
     ]
    }
   ],
   "source": [
    "print(flagship_store.available_menus(1200))\n",
    "print(flagship_store.available_menus(1700))\n"
   ]
  },
  {
   "cell_type": "code",
   "execution_count": 28,
   "id": "72e3dd02",
   "metadata": {},
   "outputs": [],
   "source": [
    "arepas_menu = {\n",
    "  'arepa pabellon': 7.00, 'pernil arepa': 8.50, 'guayanes arepa': 8.00, 'jamon arepa': 7.50\n",
    "}"
   ]
  },
  {
   "cell_type": "code",
   "execution_count": 29,
   "id": "40969948",
   "metadata": {},
   "outputs": [],
   "source": [
    "class Business:\n",
    "  def __init__(self, name, franchises):\n",
    "    self.name = name\n",
    "    self.franchises = franchises\n",
    "\n"
   ]
  },
  {
   "cell_type": "code",
   "execution_count": 30,
   "id": "308df84e",
   "metadata": {},
   "outputs": [
    {
     "name": "stdout",
     "output_type": "stream",
     "text": [
      "<__main__.Business object at 0x7ff64af18e50>\n"
     ]
    }
   ],
   "source": [
    "franchises = [flagship_store, new_installment]\n",
    "\n",
    "basta = Business('Basta Fazoolin with my Heart', franchises)\n",
    "\n",
    "arepas_place = Franchise('189 Fitzgerald Avenue', arepas_menu)\n",
    "\n",
    "arepa = Business('Take a Arepa', arepas_place)\n",
    "\n",
    "print(arepa)\n"
   ]
  },
  {
   "cell_type": "code",
   "execution_count": null,
   "id": "8c78f58b",
   "metadata": {},
   "outputs": [],
   "source": []
  }
 ],
 "metadata": {
  "kernelspec": {
   "display_name": "Python 3 (ipykernel)",
   "language": "python",
   "name": "python3"
  },
  "language_info": {
   "codemirror_mode": {
    "name": "ipython",
    "version": 3
   },
   "file_extension": ".py",
   "mimetype": "text/x-python",
   "name": "python",
   "nbconvert_exporter": "python",
   "pygments_lexer": "ipython3",
   "version": "3.9.7"
  }
 },
 "nbformat": 4,
 "nbformat_minor": 5
}
