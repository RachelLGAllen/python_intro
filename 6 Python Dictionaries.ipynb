{
 "cells": [
  {
   "cell_type": "code",
   "execution_count": 1,
   "id": "9afd5927",
   "metadata": {},
   "outputs": [],
   "source": [
    "#dictionaries go in curly brackets\n",
    "\n",
    "person = {\"name\": \"Shuri\", \"age\": 18, \"family\": [\"T'Chaka\", \"Ramonda\"]}\n",
    "\n",
    "translations = {'mountain': 'orod', 'bread': 'bass', 'friend': 'mellon', 'horse': 'roch'}"
   ]
  },
  {
   "cell_type": "code",
   "execution_count": 2,
   "id": "081164f3",
   "metadata": {},
   "outputs": [
    {
     "name": "stdout",
     "output_type": "stream",
     "text": [
      "{'zebras': 8, 'monkeys': 12, 'dinosaurs': 0}\n"
     ]
    }
   ],
   "source": [
    "#you can add things to a dictionary with dictionary[key] = value\n",
    "\n",
    "animals_in_zoo = {}\n",
    "animals_in_zoo['zebras'] = 8\n",
    "animals_in_zoo['monkeys'] = 12\n",
    "animals_in_zoo['dinosaurs'] = 0\n",
    "print(animals_in_zoo)"
   ]
  },
  {
   "cell_type": "code",
   "execution_count": 3,
   "id": "f2f84266",
   "metadata": {},
   "outputs": [
    {
     "name": "stdout",
     "output_type": "stream",
     "text": [
      "{'teraCoder': 9018293, 'proProgrammer': 119238, 'theLooper': 138475, 'stringQueen': 85739}\n"
     ]
    }
   ],
   "source": [
    "#you can update with multiple new entries by using .update({})\n",
    "\n",
    "user_ids = {\"teraCoder\": 9018293, \"proProgrammer\": 119238}\n",
    "\n",
    "user_ids.update({'theLooper':138475, 'stringQueen':85739})\n",
    "\n",
    "print(user_ids)"
   ]
  },
  {
   "cell_type": "code",
   "execution_count": 4,
   "id": "1664fb74",
   "metadata": {},
   "outputs": [],
   "source": [
    "#you can create a dictionary from tuples\n",
    "\n",
    "drinks = [\"espresso\", \"chai\", \"decaf\", \"drip\"]\n",
    "caffeine = [64, 40, 0, 120]\n",
    "\n",
    "zipped_drinks = zip(drinks, caffeine)\n",
    "\n",
    "drinks_to_caffeine = {key:value for key, value in zipped_drinks}"
   ]
  },
  {
   "cell_type": "code",
   "execution_count": 5,
   "id": "d7bb9c53",
   "metadata": {},
   "outputs": [
    {
     "name": "stdout",
     "output_type": "stream",
     "text": [
      "{'espresso': 64, 'chai': 40, 'decaf': 0, 'drip': 120}\n"
     ]
    }
   ],
   "source": [
    "print(drinks_to_caffeine)"
   ]
  },
  {
   "cell_type": "code",
   "execution_count": 6,
   "id": "3351c8a0",
   "metadata": {},
   "outputs": [
    {
     "name": "stdout",
     "output_type": "stream",
     "text": [
      "{'Like a Rolling Stone': 78, 'Satisfaction': 29, 'Imagine': 44, \"What's Going On\": 21, 'Respect': 89, 'Good Vibrations': 5}\n",
      "{'The Best Songs': {'Like a Rolling Stone': 78, 'Satisfaction': 29, 'Imagine': 44, \"What's Going On\": 21, 'Respect': 94, 'Good Vibrations': 5, 'Purple Haze': 1}, 'Sunday Feelings': {}}\n"
     ]
    }
   ],
   "source": [
    "#you can make a dictionary inside another dictionary\n",
    "\n",
    "songs = [\"Like a Rolling Stone\", \"Satisfaction\", \"Imagine\", \"What's Going On\", \"Respect\", \"Good Vibrations\"]\n",
    "playcounts = [78, 29, 44, 21, 89, 5]\n",
    "\n",
    "plays = {key:value for key, value in zip(songs,playcounts)}\n",
    "\n",
    "print(plays)\n",
    "\n",
    "plays['Purple Haze'] = 1\n",
    "\n",
    "plays['Respect'] = 94\n",
    "\n",
    "library = {'The Best Songs': plays, 'Sunday Feelings': {}}\n",
    "\n",
    "print(library)"
   ]
  },
  {
   "cell_type": "code",
   "execution_count": 1,
   "id": "541b4b61",
   "metadata": {},
   "outputs": [
    {
     "name": "stdout",
     "output_type": "stream",
     "text": [
      "['Taurus', 'Virgo', 'Capricorn']\n",
      "['Aries', 'Leo', 'Sagittarius']\n"
     ]
    }
   ],
   "source": [
    "#you can access the values in it by providing the key\n",
    "\n",
    "zodiac_elements = {\"water\": [\"Cancer\", \"Scorpio\", \"Pisces\"], \"fire\": [\"Aries\", \"Leo\", \"Sagittarius\"], \"earth\": [\"Taurus\", \"Virgo\", \"Capricorn\"], \"air\":[\"Gemini\", \"Libra\", \"Aquarius\"]}\n",
    "\n",
    "print(zodiac_elements['earth'])\n",
    "print(zodiac_elements['fire'])\n"
   ]
  },
  {
   "cell_type": "code",
   "execution_count": 2,
   "id": "3292e034",
   "metadata": {},
   "outputs": [],
   "source": [
    "#check to see if key exists\n",
    "\n",
    "zodiac_elements = {\"water\": [\"Cancer\", \"Scorpio\", \"Pisces\"], \"fire\": [\"Aries\", \"Leo\", \"Sagittarius\"], \"earth\": [\"Taurus\", \"Virgo\", \"Capricorn\"], \"air\":[\"Gemini\", \"Libra\", \"Aquarius\"]}\n",
    "\n",
    "if 'energy' in zodiac_elements:\n",
    "  print(zodiac_elements[\"energy\"])"
   ]
  },
  {
   "cell_type": "code",
   "execution_count": 3,
   "id": "059f3f01",
   "metadata": {},
   "outputs": [
    {
     "name": "stdout",
     "output_type": "stream",
     "text": [
      "Not a zodiac element\n"
     ]
    }
   ],
   "source": [
    "zodiac_elements.update({'energy':'Not a zodiac element'})\n",
    "\n",
    "if 'energy' in zodiac_elements:\n",
    "  print(zodiac_elements[\"energy\"])"
   ]
  },
  {
   "cell_type": "code",
   "execution_count": 4,
   "id": "0922cb6c",
   "metadata": {},
   "outputs": [
    {
     "name": "stdout",
     "output_type": "stream",
     "text": [
      "Unknown Caffeine Level\n"
     ]
    }
   ],
   "source": [
    "#use try: and except: \n",
    "\n",
    "caffeine_level = {\"espresso\": 64, \"chai\": 40, \"decaf\": 0, \"drip\": 120}\n",
    "try:\n",
    "  print(caffeine_level['matcha'])\n",
    "except KeyError:\n",
    "  print('Unknown Caffeine Level')"
   ]
  },
  {
   "cell_type": "code",
   "execution_count": 5,
   "id": "8dd20f80",
   "metadata": {},
   "outputs": [
    {
     "name": "stdout",
     "output_type": "stream",
     "text": [
      "100019\n",
      "no such id\n"
     ]
    }
   ],
   "source": [
    "#use .get() to return a key, with a default value if it doesn't exist\n",
    "\n",
    "user_ids = {\"teraCoder\": 100019, \"pythonGuy\": 182921, \"samTheJavaMaam\": 123112, \"lyleLoop\": 102931, \"keysmithKeith\": 129384}\n",
    "\n",
    "tc_id = user_ids.get('teraCoder', 100000)\n",
    "\n",
    "print(tc_id)\n",
    "\n",
    "my_id = user_ids.get('me', 'no such id')\n",
    "\n",
    "print(my_id)"
   ]
  },
  {
   "cell_type": "code",
   "execution_count": 6,
   "id": "35c99c48",
   "metadata": {},
   "outputs": [
    {
     "name": "stdout",
     "output_type": "stream",
     "text": [
      "{'health potion': 10, 'cake of the cure': 5, 'green elixir': 20, 'strength sandwich': 25}\n",
      "65\n"
     ]
    }
   ],
   "source": [
    "# .pop() will get the value and remove it from the dictionary\n",
    "\n",
    "available_items = {\"health potion\": 10, \"cake of the cure\": 5, \"green elixir\": 20, \"strength sandwich\": 25, \"stamina grains\": 15, \"power stew\": 30}\n",
    "health_points = 20\n",
    "\n",
    "health_points += available_items.pop('stamina grains', 0)\n",
    "\n",
    "health_points += available_items.pop('power stew', 0)\n",
    "\n",
    "health_points += available_items.pop('mystic bread', 0)\n",
    "\n",
    "print(available_items)\n",
    "print(health_points)\n"
   ]
  },
  {
   "cell_type": "code",
   "execution_count": 7,
   "id": "9c5fcca3",
   "metadata": {},
   "outputs": [
    {
     "name": "stdout",
     "output_type": "stream",
     "text": [
      "dict_keys(['teraCoder', 'pythonGuy', 'samTheJavaMaam', 'lyleLoop', 'keysmithKeith'])\n",
      "dict_keys(['functions', 'syntax', 'control flow', 'loops', 'lists', 'classes', 'dictionaries'])\n"
     ]
    }
   ],
   "source": [
    "# .keys() creates a dict_keys object(can't be changed)\n",
    "\n",
    "user_ids = {\"teraCoder\": 100019, \"pythonGuy\": 182921, \"samTheJavaMaam\": 123112, \"lyleLoop\": 102931, \"keysmithKeith\": 129384}\n",
    "num_exercises = {\"functions\": 10, \"syntax\": 13, \"control flow\": 15, \"loops\": 22, \"lists\": 19, \"classes\": 18, \"dictionaries\": 18}\n",
    "\n",
    "users = user_ids.keys()\n",
    "\n",
    "lessons = num_exercises.keys()\n",
    "\n",
    "print(users)\n",
    "print(lessons)"
   ]
  },
  {
   "cell_type": "code",
   "execution_count": 8,
   "id": "d3010f3d",
   "metadata": {},
   "outputs": [
    {
     "data": {
      "text/plain": [
       "['teraCoder', 'pythonGuy', 'samTheJavaMaam', 'lyleLoop', 'keysmithKeith']"
      ]
     },
     "execution_count": 8,
     "metadata": {},
     "output_type": "execute_result"
    }
   ],
   "source": [
    "list(user_ids)"
   ]
  },
  {
   "cell_type": "code",
   "execution_count": 9,
   "id": "2505cae6",
   "metadata": {},
   "outputs": [],
   "source": [
    "#you can use list just to grab them"
   ]
  },
  {
   "cell_type": "code",
   "execution_count": 10,
   "id": "77d86e0a",
   "metadata": {},
   "outputs": [
    {
     "name": "stdout",
     "output_type": "stream",
     "text": [
      "115\n"
     ]
    }
   ],
   "source": [
    "# use .values() to iterate through the values of the keys in a dictionary\n",
    "\n",
    "num_exercises = {\"functions\": 10, \"syntax\": 13, \"control flow\": 15, \"loops\": 22, \"lists\": 19, \"classes\": 18, \"dictionaries\": 18}\n",
    "\n",
    "total_exercises = 0\n",
    "\n",
    "for exercise in num_exercises.values():\n",
    "  total_exercises += exercise\n",
    "\n",
    "print(total_exercises)"
   ]
  },
  {
   "cell_type": "code",
   "execution_count": 11,
   "id": "a33e12ea",
   "metadata": {},
   "outputs": [
    {
     "name": "stdout",
     "output_type": "stream",
     "text": [
      "Women make up 28 percent of CEOs.\n",
      "Women make up 9 percent of Engineering Managers.\n",
      "Women make up 58 percent of Pharmacists.\n",
      "Women make up 40 percent of Physicians.\n",
      "Women make up 37 percent of Lawyers.\n",
      "Women make up 9 percent of Aerospace Engineers.\n"
     ]
    }
   ],
   "source": [
    "# .items() gets keys and values as tuple and can be iterated through\n",
    "\n",
    "pct_women_in_occupation = {\"CEO\": 28, \"Engineering Manager\": 9, \"Pharmacist\": 58, \"Physician\": 40, \"Lawyer\": 37, \"Aerospace Engineer\": 9}\n",
    "\n",
    "for job, num in pct_women_in_occupation.items():\n",
    "  print('Women make up ' + str(num) + ' percent of ' + job + 's.')"
   ]
  },
  {
   "cell_type": "code",
   "execution_count": 12,
   "id": "0a024f99",
   "metadata": {},
   "outputs": [
    {
     "name": "stdout",
     "output_type": "stream",
     "text": [
      "Your past is the Death card.\n",
      "Your present is the The Fool card.\n",
      "Your future is the Wheel of Fortune card.\n"
     ]
    }
   ],
   "source": [
    "#practice\n",
    "\n",
    "tarot = { 1:\t\"The Magician\", 2:\t\"The High Priestess\", 3:\t\"The Empress\", 4:\t\"The Emperor\", 5:\t\"The Hierophant\", 6:\t\"The Lovers\", 7:\t\"The Chariot\", 8:\t\"Strength\", 9:\t\"The Hermit\", 10:\t\"Wheel of Fortune\", 11:\t\"Justice\", 12:\t\"The Hanged Man\", 13:\t\"Death\", 14:\t\"Temperance\", 15:\t\"The Devil\", 16:\t\"The Tower\", 17:\t\"The Star\", 18:\t\"The Moon\", 19:\t\"The Sun\", 20:\t\"Judgement\", 21:\t\"The World\", 22: \"The Fool\"}\n",
    "\n",
    "spread = {}\n",
    "\n",
    "spread['past'] = tarot.pop(13)\n",
    "\n",
    "spread['present'] = tarot.pop(22)\n",
    "\n",
    "spread['future'] = tarot.pop(10)\n",
    "\n",
    "for time, card in spread.items():\n",
    "  print('Your ' + time + ' is the ' + card + ' card.')"
   ]
  },
  {
   "cell_type": "code",
   "execution_count": 1,
   "id": "6ba1f5d1",
   "metadata": {},
   "outputs": [],
   "source": [
    "# practice using dictionaries and functions\n",
    "\n",
    "letters = [\"A\", \"B\", \"C\", \"D\", \"E\", \"F\", \"G\", \"H\", \"I\", \"J\", \"K\", \"L\", \"M\", \"N\", \"O\", \"P\", \"Q\", \"R\", \"S\", \"T\", \"U\", \"V\", \"W\", \"X\", \"Y\", \"Z\"]\n",
    "points = [1, 3, 3, 2, 1, 4, 2, 4, 1, 8, 5, 1, 3, 4, 1, 3, 10, 1, 1, 1, 1, 4, 4, 8, 4, 10]\n"
   ]
  },
  {
   "cell_type": "code",
   "execution_count": 2,
   "id": "0610e2fb",
   "metadata": {},
   "outputs": [],
   "source": [
    "# Using a list comprehension and zip, create a dictionary called letter_to_points that has the elements of letters as the keys and the elements of points as the values.\n",
    "\n",
    "letters_to_points = {key:value for key, value in zip(letters, points)} "
   ]
  },
  {
   "cell_type": "code",
   "execution_count": 3,
   "id": "66bd38be",
   "metadata": {},
   "outputs": [],
   "source": [
    "#Add an element to the letter_to_points dictionary that has a key of \" \" and a point value of 0.\n",
    "\n",
    "letters_to_points[' '] = 0"
   ]
  },
  {
   "cell_type": "code",
   "execution_count": 4,
   "id": "5dd6c878",
   "metadata": {},
   "outputs": [],
   "source": [
    "# Define a function called score_word that takes in a parameter word\n",
    "# Inside score_word, create a variable called point_total and set it to 0\n",
    "# create a for loop that goes through the letters in word and adds the point value of each letter to point_total.\n",
    "\n",
    "def score_word(word):\n",
    "  point_total = 0\n",
    "  for letter in word:\n",
    "    if letter in letters_to_points:\n",
    "      point_total += letters_to_points[letter]\n",
    "    else:\n",
    "      point_total += 0\n",
    "  return point_total"
   ]
  },
  {
   "cell_type": "code",
   "execution_count": 6,
   "id": "817b5296",
   "metadata": {},
   "outputs": [
    {
     "name": "stdout",
     "output_type": "stream",
     "text": [
      "15\n"
     ]
    }
   ],
   "source": [
    "#test function\n",
    "brownie_points = score_word(\"BROWNIE\")\n",
    "print(brownie_points)"
   ]
  },
  {
   "cell_type": "code",
   "execution_count": 7,
   "id": "4d2fad77",
   "metadata": {},
   "outputs": [],
   "source": [
    "players_to_words={'player1': ['BLUE', 'TENNIS', 'EXIT'], 'wordNerd': ['EARTH', 'EYES', 'MACHINE'], 'Lexi Con': ['ERASER', 'BELLY', 'HUSKY'], 'Prof Reader': ['ZAP', 'COMA', 'PERIOD']}"
   ]
  },
  {
   "cell_type": "code",
   "execution_count": 8,
   "id": "7097e51c",
   "metadata": {},
   "outputs": [],
   "source": [
    "#Create an empty dictionary called player_to_points.\n",
    "#Iterate through the items in player_to_words. Call each player player and each list of words words.\n",
    "#Within your loop, create a variable called player_points and set it to 0.\n",
    "#Within the loop, create another loop that goes through each word in words and adds the value of score_word() with word as an input.\n",
    "#After the inner loop ends, set the current player value to be a key of player_to_points, with a value of player_points\n",
    "\n",
    "\n",
    "players_to_points = {}\n",
    "\n",
    "for player, words in players_to_words.items():\n",
    "  player_points = 0\n",
    "  for word in words:\n",
    "    player_points += score_word(word)\n",
    "  players_to_points[player] = player_points"
   ]
  },
  {
   "cell_type": "code",
   "execution_count": 9,
   "id": "ece3a050",
   "metadata": {},
   "outputs": [
    {
     "name": "stdout",
     "output_type": "stream",
     "text": [
      "{'player1': 29, 'wordNerd': 32, 'Lexi Con': 31, 'Prof Reader': 31}\n"
     ]
    }
   ],
   "source": [
    "# test\n",
    "\n",
    "print(players_to_points)"
   ]
  },
  {
   "cell_type": "code",
   "execution_count": null,
   "id": "ff285f69",
   "metadata": {},
   "outputs": [],
   "source": []
  }
 ],
 "metadata": {
  "kernelspec": {
   "display_name": "Python 3 (ipykernel)",
   "language": "python",
   "name": "python3"
  },
  "language_info": {
   "codemirror_mode": {
    "name": "ipython",
    "version": 3
   },
   "file_extension": ".py",
   "mimetype": "text/x-python",
   "name": "python",
   "nbconvert_exporter": "python",
   "pygments_lexer": "ipython3",
   "version": "3.9.7"
  }
 },
 "nbformat": 4,
 "nbformat_minor": 5
}
