{
 "cells": [
  {
   "cell_type": "code",
   "execution_count": 18,
   "id": "e58dc4ca",
   "metadata": {},
   "outputs": [],
   "source": [
    "#to import a module (library or package)\n",
    "#from library import module\n",
    "\n",
    "from datetime import datetime"
   ]
  },
  {
   "cell_type": "code",
   "execution_count": 19,
   "id": "bc7dfd77",
   "metadata": {},
   "outputs": [
    {
     "name": "stdout",
     "output_type": "stream",
     "text": [
      "2022-09-13 09:04:31.942168\n"
     ]
    }
   ],
   "source": [
    "current_time = datetime.now()\n",
    "\n",
    "print(current_time)"
   ]
  },
  {
   "cell_type": "code",
   "execution_count": 20,
   "id": "c4c9c6e5",
   "metadata": {},
   "outputs": [],
   "source": [
    "import random"
   ]
  },
  {
   "cell_type": "code",
   "execution_count": 21,
   "id": "7df6a95c",
   "metadata": {},
   "outputs": [],
   "source": [
    "#random.randint() takes 2 nums as argument and generates random num between them (inclusive)\n",
    "\n",
    "random_list = [random.randint(1, 100) for x in range(101)]"
   ]
  },
  {
   "cell_type": "code",
   "execution_count": 22,
   "id": "0ed81e5e",
   "metadata": {},
   "outputs": [
    {
     "name": "stdout",
     "output_type": "stream",
     "text": [
      "14\n"
     ]
    }
   ],
   "source": [
    "#random.choice() takes list as argument and returns number\n",
    "\n",
    "random_number = random.choice(random_list)\n",
    "print(random_number)"
   ]
  },
  {
   "cell_type": "code",
   "execution_count": 23,
   "id": "272c1d8b",
   "metadata": {},
   "outputs": [],
   "source": [
    "from matplotlib import pyplot as plt"
   ]
  },
  {
   "cell_type": "markdown",
   "id": "0bd867aa",
   "metadata": {},
   "source": []
  },
  {
   "cell_type": "raw",
   "id": "363505cd",
   "metadata": {},
   "source": []
  },
  {
   "cell_type": "code",
   "execution_count": 24,
   "id": "cedf47a9",
   "metadata": {},
   "outputs": [],
   "source": [
    "numbers_a = range(1,13)"
   ]
  },
  {
   "cell_type": "code",
   "execution_count": null,
   "id": "b51ea289",
   "metadata": {},
   "outputs": [],
   "source": []
  },
  {
   "cell_type": "code",
   "execution_count": 26,
   "id": "036dd1ba",
   "metadata": {},
   "outputs": [],
   "source": [
    "import seaborn as sns"
   ]
  },
  {
   "cell_type": "code",
   "execution_count": 27,
   "id": "0156a204",
   "metadata": {},
   "outputs": [],
   "source": [
    "#random.sample takes a list and a number of outputs as arguments \n",
    "\n",
    "numbers_b = random.sample(range(1000), 12)"
   ]
  },
  {
   "cell_type": "code",
   "execution_count": 28,
   "id": "7b80d2af",
   "metadata": {},
   "outputs": [
    {
     "data": {
      "text/plain": [
       "[<matplotlib.lines.Line2D at 0x7fdc856baf10>]"
      ]
     },
     "execution_count": 28,
     "metadata": {},
     "output_type": "execute_result"
    },
    {
     "data": {
      "image/png": "[encoded data removed]",
      "text/plain": [
       "<Figure size 432x288 with 1 Axes>"
      ]
     },
     "metadata": {
      "needs_background": "light"
     },
     "output_type": "display_data"
    }
   ],
   "source": [
    "plt.plot(numbers_a, numbers_b)"
   ]
  },
  {
   "cell_type": "code",
   "execution_count": 30,
   "id": "f63b9551",
   "metadata": {},
   "outputs": [
    {
     "name": "stdout",
     "output_type": "stream",
     "text": [
      "0.95\n"
     ]
    }
   ],
   "source": [
    "#apparently python does some weird stuff with decimals?\n",
    "\n",
    "two_decimals = 0.2 + 0.75\n",
    "print(two_decimals)"
   ]
  },
  {
   "cell_type": "code",
   "execution_count": 31,
   "id": "e6a7f81c",
   "metadata": {},
   "outputs": [],
   "source": [
    "#well mine isn't but you can use 'from decimal import Decimal' to fix it\n",
    "from decimal import Decimal"
   ]
  },
  {
   "cell_type": "code",
   "execution_count": 32,
   "id": "a2295b92",
   "metadata": {},
   "outputs": [
    {
     "name": "stdout",
     "output_type": "stream",
     "text": [
      "0.95\n"
     ]
    }
   ],
   "source": [
    "two_decimals_fixed = Decimal('0.2')+ Decimal('0.75')\n",
    "print(two_decimals_fixed)"
   ]
  },
  {
   "cell_type": "code",
   "execution_count": null,
   "id": "1f33212a",
   "metadata": {},
   "outputs": [],
   "source": []
  }
 ],
 "metadata": {
  "kernelspec": {
   "display_name": "Python 3 (ipykernel)",
   "language": "python",
   "name": "python3"
  },
  "language_info": {
   "codemirror_mode": {
    "name": "ipython",
    "version": 3
   },
   "file_extension": ".py",
   "mimetype": "text/x-python",
   "name": "python",
   "nbconvert_exporter": "python",
   "pygments_lexer": "ipython3",
   "version": "3.9.7"
  }
 },
 "nbformat": 4,
 "nbformat_minor": 5
}
