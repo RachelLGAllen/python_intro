{
 "cells": [
  {
   "cell_type": "markdown",
   "id": "761fc0fc",
   "metadata": {},
   "source": [
    "## Functions"
   ]
  },
  {
   "cell_type": "code",
   "execution_count": 1,
   "id": "46f77fcd",
   "metadata": {},
   "outputs": [
    {
     "name": "stdout",
     "output_type": "stream",
     "text": [
      "Looks like you are planning a trip to visit Central Park\n",
      "You can use the public subway system to get to Central Park\n"
     ]
    }
   ],
   "source": [
    "# def function_name(parameter):\n",
    "#  indented lines will run \n",
    "#  paramaters can be passed in as arguments\n",
    "\n",
    "def generate_trip_instructions(location):\n",
    "  print(\"Looks like you are planning a trip to visit \" + location)\n",
    "  print(\"You can use the public subway system to get to \" + location)\n",
    "\n",
    "generate_trip_instructions(\"Central Park\")"
   ]
  },
  {
   "cell_type": "code",
   "execution_count": 2,
   "id": "6db3df2f",
   "metadata": {},
   "outputs": [],
   "source": [
    "#positional arguments\n",
    "#function calls (x, y, z) -- so that's first, second, third"
   ]
  },
  {
   "cell_type": "code",
   "execution_count": 3,
   "id": "21432d5a",
   "metadata": {},
   "outputs": [],
   "source": [
    "# keyword arguments\n",
    "#function call (x = 2, y = 5, z = 13) -- can go in any order"
   ]
  },
  {
   "cell_type": "code",
   "execution_count": 4,
   "id": "720db51f",
   "metadata": {},
   "outputs": [],
   "source": [
    "# default arguments\n",
    "\n",
    "#in the def of the function (y, y, z = 10)"
   ]
  },
  {
   "cell_type": "code",
   "execution_count": 5,
   "id": "a33c6257",
   "metadata": {},
   "outputs": [],
   "source": [
    "def trip_planner(first_destination, second_destination, final_destination = \"Codecademy HQ\"):\n",
    "  print(\"Here is what your trip will look like!\")\n",
    "  print(\"First, we will stop in \" + first_destination +\", then \" + second_destination + \", and lastly \" + final_destination)"
   ]
  },
  {
   "cell_type": "code",
   "execution_count": 6,
   "id": "5f7b4460",
   "metadata": {},
   "outputs": [
    {
     "name": "stdout",
     "output_type": "stream",
     "text": [
      "Here is what your trip will look like!\n",
      "First, we will stop in France, then Germany, and lastly Denmark\n"
     ]
    }
   ],
   "source": [
    "#positional argument\n",
    "trip_planner(\"France\", \"Germany\", \"Denmark\")"
   ]
  },
  {
   "cell_type": "code",
   "execution_count": 7,
   "id": "75d61b01",
   "metadata": {},
   "outputs": [
    {
     "name": "stdout",
     "output_type": "stream",
     "text": [
      "Here is what your trip will look like!\n",
      "First, we will stop in Iceland, then India, and lastly Germany\n"
     ]
    }
   ],
   "source": [
    "#keyword argument\n",
    "trip_planner(first_destination = \"Iceland\", final_destination = \"Germany\", second_destination = \"India\")"
   ]
  },
  {
   "cell_type": "code",
   "execution_count": 8,
   "id": "21406631",
   "metadata": {},
   "outputs": [
    {
     "name": "stdout",
     "output_type": "stream",
     "text": [
      "Here is what your trip will look like!\n",
      "First, we will stop in Brooklyn, then Queens, and lastly Codecademy HQ\n"
     ]
    }
   ],
   "source": [
    "#default argument\n",
    "trip_planner(\"Brooklyn\", \"Queens\")"
   ]
  },
  {
   "cell_type": "code",
   "execution_count": 9,
   "id": "475e7f51",
   "metadata": {},
   "outputs": [],
   "source": [
    "#default functions\n",
    "\n",
    "#max()\n",
    "#min()\n",
    "#round(#, dec place)"
   ]
  },
  {
   "cell_type": "code",
   "execution_count": 11,
   "id": "02a961f1",
   "metadata": {},
   "outputs": [
    {
     "data": {
      "text/plain": [
       "10"
      ]
     },
     "execution_count": 11,
     "metadata": {},
     "output_type": "execute_result"
    }
   ],
   "source": [
    "# using return\n",
    "# def function(x, y):\n",
    "#   return x*y\n",
    "\n",
    "def times_function(x, y):\n",
    "    return x * y\n",
    "\n",
    "times_function(2, 5)"
   ]
  },
  {
   "cell_type": "code",
   "execution_count": 12,
   "id": "34fc1dec",
   "metadata": {},
   "outputs": [
    {
     "name": "stdout",
     "output_type": "stream",
     "text": [
      "Rome\n",
      "Venice\n",
      "Florence\n"
     ]
    }
   ],
   "source": [
    "#create mutliple returns and set them equal to new variables\n",
    "\n",
    "def top_tourist_locations_italy():\n",
    "  first = \"Rome\"\n",
    "  second = \"Venice\"\n",
    "  third = \"Florence\"\n",
    "  return first, second, third\n",
    "\n",
    "most_popular1, most_popular2, most_popular3 = top_tourist_locations_italy()\n",
    "\n",
    "print(most_popular1)\n",
    "print(most_popular2)\n",
    "print(most_popular3)"
   ]
  },
  {
   "cell_type": "code",
   "execution_count": null,
   "id": "09baa25f",
   "metadata": {},
   "outputs": [],
   "source": []
  }
 ],
 "metadata": {
  "kernelspec": {
   "display_name": "Python 3 (ipykernel)",
   "language": "python",
   "name": "python3"
  },
  "language_info": {
   "codemirror_mode": {
    "name": "ipython",
    "version": 3
   },
   "file_extension": ".py",
   "mimetype": "text/x-python",
   "name": "python",
   "nbconvert_exporter": "python",
   "pygments_lexer": "ipython3",
   "version": "3.9.7"
  }
 },
 "nbformat": 4,
 "nbformat_minor": 5
}
