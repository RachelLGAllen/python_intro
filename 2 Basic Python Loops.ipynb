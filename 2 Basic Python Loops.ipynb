{
 "cells": [
  {
   "cell_type": "markdown",
   "id": "2e3eee98",
   "metadata": {},
   "source": [
    "## Python notes 2\n",
    "\n",
    "### 1. loops (for, while, break, continue)\n",
    "\n",
    "### 2. list comprehensions\n",
    "\n",
    "### 3. functions using loops"
   ]
  },
  {
   "cell_type": "code",
   "execution_count": 1,
   "id": "64157a65",
   "metadata": {},
   "outputs": [],
   "source": [
    "#loops\n",
    "#for loops\n",
    "\n",
    "sport_games = [\"football\", \"hockey\", \"baseball\", \"cricket\"]"
   ]
  },
  {
   "cell_type": "code",
   "execution_count": 2,
   "id": "5b9e9abc",
   "metadata": {},
   "outputs": [
    {
     "name": "stdout",
     "output_type": "stream",
     "text": [
      "football\n",
      "hockey\n",
      "baseball\n",
      "cricket\n"
     ]
    }
   ],
   "source": [
    "for sport in sport_games:\n",
    "  print(sport)"
   ]
  },
  {
   "cell_type": "code",
   "execution_count": 3,
   "id": "5dfc08c9",
   "metadata": {},
   "outputs": [
    {
     "name": "stdout",
     "output_type": "stream",
     "text": [
      "Hello\n",
      "Hello\n",
      "Hello\n",
      "Hello\n",
      "Hello\n"
     ]
    }
   ],
   "source": [
    "#use range to set how many loops\n",
    "\n",
    "for i in range(5):\n",
    "    print(\"Hello\")"
   ]
  },
  {
   "cell_type": "code",
   "execution_count": 4,
   "id": "06c5800d",
   "metadata": {},
   "outputs": [
    {
     "name": "stdout",
     "output_type": "stream",
     "text": [
      "Loop is on iteration number 1\n",
      "Loop is on iteration number 2\n",
      "Loop is on iteration number 3\n",
      "Loop is on iteration number 4\n",
      "Loop is on iteration number 5\n",
      "Loop is on iteration number 6\n"
     ]
    }
   ],
   "source": [
    "#use temp variable to count loops\n",
    "\n",
    "for temp in range(6):\n",
    "  print(\"Loop is on iteration number \" + str(temp + 1))"
   ]
  },
  {
   "cell_type": "code",
   "execution_count": 5,
   "id": "2af0852e",
   "metadata": {},
   "outputs": [
    {
     "name": "stdout",
     "output_type": "stream",
     "text": [
      "10\n",
      "9\n",
      "8\n",
      "7\n",
      "6\n",
      "5\n",
      "4\n",
      "3\n",
      "2\n",
      "1\n",
      "0\n",
      "We have liftoff!\n"
     ]
    }
   ],
   "source": [
    "#while loops\n",
    "\n",
    "countdown = 10\n",
    "\n",
    "while countdown >= 0:\n",
    "  print(str(countdown))\n",
    "  countdown -=1\n",
    "print(\"We have liftoff!\")"
   ]
  },
  {
   "cell_type": "code",
   "execution_count": 7,
   "id": "9b839a96",
   "metadata": {},
   "outputs": [
    {
     "name": "stdout",
     "output_type": "stream",
     "text": [
      "milk\n",
      "sugar\n",
      "vanilla extract\n",
      "dough\n",
      "chocolate\n"
     ]
    }
   ],
   "source": [
    "#while loops using len\n",
    "ingredients = [\"milk\", \"sugar\", \"vanilla extract\", \"dough\", \"chocolate\"]\n",
    "\n",
    "length = len(ingredients)\n",
    "index = 0\n",
    " \n",
    "while index < length:\n",
    "  print(ingredients[index])\n",
    "  index += 1"
   ]
  },
  {
   "cell_type": "code",
   "execution_count": 8,
   "id": "57e95ee7",
   "metadata": {},
   "outputs": [
    {
     "name": "stdout",
     "output_type": "stream",
     "text": [
      "I am learning about variables\n",
      "I am learning about control flow\n",
      "I am learning about loops\n",
      "I am learning about modules\n",
      "I am learning about classes\n"
     ]
    }
   ],
   "source": [
    "python_topics = [\"variables\", \"control flow\", \"loops\", \"modules\", \"classes\"]\n",
    "\n",
    "length = len(python_topics)\n",
    "index = 0\n",
    "\n",
    "while index < length:\n",
    "  print(\"I am learning about \" + str(python_topics[index]))\n",
    "  index += 1"
   ]
  },
  {
   "cell_type": "code",
   "execution_count": 9,
   "id": "7fb0910e",
   "metadata": {},
   "outputs": [
    {
     "name": "stdout",
     "output_type": "stream",
     "text": [
      "Checking the sale list!\n",
      "blue shirt\n",
      "striped socks\n",
      "knit dress\n",
      "End of search!\n"
     ]
    }
   ],
   "source": [
    "#using break to end a loop\n",
    "\n",
    "items_on_sale = [\"blue shirt\", \"striped socks\", \"knit dress\", \"red headband\", \"dinosaur onesie\"]\n",
    "print(\"Checking the sale list!\")\n",
    " \n",
    "for item in items_on_sale:\n",
    "  print(item)\n",
    "  if item == \"knit dress\":\n",
    "    break\n",
    " \n",
    "print(\"End of search!\")"
   ]
  },
  {
   "cell_type": "code",
   "execution_count": 10,
   "id": "3d1e9c9d",
   "metadata": {},
   "outputs": [
    {
     "name": "stdout",
     "output_type": "stream",
     "text": [
      "38\n",
      "34\n",
      "26\n",
      "21\n",
      "67\n",
      "41\n"
     ]
    }
   ],
   "source": [
    "#using continue -- it will skip all ages < 21\n",
    "\n",
    "ages = [12, 38, 34, 26, 21, 19, 67, 41, 17]\n",
    "\n",
    "for age in ages:\n",
    "  if age < 21:\n",
    "    continue\n",
    "  print(age)"
   ]
  },
  {
   "cell_type": "code",
   "execution_count": 11,
   "id": "302b5687",
   "metadata": {},
   "outputs": [
    {
     "name": "stdout",
     "output_type": "stream",
     "text": [
      "[12, 17, 22]\n",
      "[2, 10, 3]\n",
      "[5, 12, 13]\n"
     ]
    }
   ],
   "source": [
    "#nested loops and printing out nested lists\n",
    "\n",
    "sales_data = [[12, 17, 22], [2, 10, 3], [5, 12, 13]]\n",
    "\n",
    "for location in sales_data:\n",
    "  print(location)"
   ]
  },
  {
   "cell_type": "code",
   "execution_count": 12,
   "id": "bf9df1c4",
   "metadata": {},
   "outputs": [
    {
     "name": "stdout",
     "output_type": "stream",
     "text": [
      "12\n",
      "17\n",
      "22\n",
      "2\n",
      "10\n",
      "3\n",
      "5\n",
      "12\n",
      "13\n"
     ]
    }
   ],
   "source": [
    "#to print out each individual number:\n",
    "\n",
    "for location in sales_data:\n",
    "  for sales_data in location:\n",
    "    print(sales_data)"
   ]
  },
  {
   "cell_type": "code",
   "execution_count": 17,
   "id": "b59f5768",
   "metadata": {},
   "outputs": [],
   "source": [
    "#you can also add or loop or whatever\n"
   ]
  },
  {
   "cell_type": "code",
   "execution_count": 16,
   "id": "91bafeeb",
   "metadata": {},
   "outputs": [
    {
     "name": "stdout",
     "output_type": "stream",
     "text": [
      "[12, 17, 22]\n",
      "[2, 10, 3]\n",
      "[5, 12, 13]\n",
      "96\n"
     ]
    }
   ],
   "source": [
    "sales_data = [[12, 17, 22], [2, 10, 3], [5, 12, 13]]\n",
    "\n",
    "scoops_sold = 0\n",
    "\n",
    "for location in sales_data:\n",
    "  print(location)\n",
    "  for sales_data in location:\n",
    "    scoops_sold += sales_data\n",
    "    \n",
    "\n",
    "print(scoops_sold)    \n",
    "  "
   ]
  },
  {
   "cell_type": "markdown",
   "id": "0a4871ae",
   "metadata": {},
   "source": [
    "## List Comprehensions"
   ]
  },
  {
   "cell_type": "code",
   "execution_count": 18,
   "id": "cf6b365b",
   "metadata": {},
   "outputs": [
    {
     "name": "stdout",
     "output_type": "stream",
     "text": [
      "[100, 98, 72, 86, 84, 99, 58, 67]\n"
     ]
    }
   ],
   "source": [
    "# new_list = [<expression> for <element> in <collection>]\n",
    "\n",
    "grades = [90, 88, 62, 76, 74, 89, 48, 57]\n",
    "\n",
    "scaled_grades = [num + 10 for num in grades]\n",
    "\n",
    "print(scaled_grades)"
   ]
  },
  {
   "cell_type": "code",
   "execution_count": 19,
   "id": "1e483c94",
   "metadata": {},
   "outputs": [
    {
     "name": "stdout",
     "output_type": "stream",
     "text": [
      "[6, -2, 237, 99, -90]\n"
     ]
    }
   ],
   "source": [
    "# using if or else\n",
    "\n",
    "numbers = [2, -1, 79, 33, -45]\n",
    "doubled = [num * 2 if num < 0 else num * 3 for num in numbers ]\n",
    "print(doubled)"
   ]
  },
  {
   "cell_type": "code",
   "execution_count": 20,
   "id": "08b44b64",
   "metadata": {},
   "outputs": [
    {
     "name": "stdout",
     "output_type": "stream",
     "text": [
      "[164, 170, 163, 163]\n"
     ]
    }
   ],
   "source": [
    "heights = [161, 164, 156, 144, 158, 170, 163, 163, 157]\n",
    "can_ride_coaster = [num for num in heights if num > 161]\n",
    "print(can_ride_coaster)"
   ]
  },
  {
   "cell_type": "code",
   "execution_count": 21,
   "id": "4357e0ed",
   "metadata": {},
   "outputs": [
    {
     "name": "stdout",
     "output_type": "stream",
     "text": [
      "0\n",
      "1\n",
      "2\n",
      "3\n",
      "4\n",
      "5\n",
      "6\n",
      "7\n",
      "8\n",
      "9\n",
      "[0, 1, 4, 9, 16, 25, 36, 49, 64, 81]\n",
      "[0, 1, 8, 27, 64, 125, 216, 343, 512, 729]\n"
     ]
    }
   ],
   "source": [
    "#review of loops and list comprehensions:\n",
    "\n",
    "single_digits = range(0, 10)\n",
    "squares = []\n",
    "\n",
    "for i in single_digits:\n",
    "  print(i)\n",
    "  squares.append(i ** 2)\n",
    "\n",
    "print(squares)\n",
    "\n",
    "cubes = [i **3 for i in single_digits] \n",
    "\n",
    "print(cubes)"
   ]
  },
  {
   "cell_type": "code",
   "execution_count": 1,
   "id": "e2e8991a",
   "metadata": {},
   "outputs": [],
   "source": [
    "#First, let’s sum up all the prices of haircuts. Create a variable total_price, and set it to 0\n",
    "\n",
    "hairstyles = [\"bouffant\", \"pixie\", \"dreadlocks\", \"crew\", \"bowl\", \"bob\", \"mohawk\", \"flattop\"]\n",
    "\n",
    "prices = [30, 25, 40, 20, 20, 35, 50, 35]\n",
    "\n",
    "last_week = [2, 3, 5, 8, 4, 4, 6, 2]\n",
    "\n",
    "total_price = 0"
   ]
  },
  {
   "cell_type": "code",
   "execution_count": 2,
   "id": "09b1e3c3",
   "metadata": {},
   "outputs": [
    {
     "name": "stdout",
     "output_type": "stream",
     "text": [
      "255\n"
     ]
    }
   ],
   "source": [
    "# Loop through the prices list and add each price to the variable total_price.\n",
    "\n",
    "for price in prices:\n",
    "  total_price += price\n",
    "\n",
    "print(total_price)"
   ]
  },
  {
   "cell_type": "code",
   "execution_count": 3,
   "id": "5c7de1d5",
   "metadata": {},
   "outputs": [
    {
     "name": "stdout",
     "output_type": "stream",
     "text": [
      "Average Haircut Price: 31.875\n"
     ]
    }
   ],
   "source": [
    "#create a variable called average_price that is the total_price divided by the number of prices\n",
    "\n",
    "average_price = total_price/len(prices)\n",
    "\n",
    "print(\"Average Haircut Price: \" + str(average_price))"
   ]
  },
  {
   "cell_type": "code",
   "execution_count": 6,
   "id": "510dc70b",
   "metadata": {},
   "outputs": [
    {
     "name": "stdout",
     "output_type": "stream",
     "text": [
      "[25, 20, 35, 15, 15, 30, 45, 30]\n"
     ]
    }
   ],
   "source": [
    "#Use a list comprehension to make a list called new_prices, which has each element in prices minus 5.\n",
    "\n",
    "new_prices = [n - 5 for n in prices]\n",
    "\n",
    "print(new_prices)"
   ]
  },
  {
   "cell_type": "code",
   "execution_count": 8,
   "id": "628a092f",
   "metadata": {},
   "outputs": [
    {
     "name": "stdout",
     "output_type": "stream",
     "text": [
      "Total Revenue: 1085\n"
     ]
    }
   ],
   "source": [
    "# Use a for loop to create a variable i that goes from 0 to len(hairstyles)\n",
    "\n",
    "#Add the product of prices[i] (the price of the haircut at position i) and last_week[i] (the number of people who got the haircut at position i) to total_revenue at each step.\n",
    "\n",
    "total_revenue = 0\n",
    "\n",
    "for i in range(0, len(hairstyles)):\n",
    "  total_revenue += (prices[i] * last_week[i])\n",
    "\n",
    "print(\"Total Revenue: \" + str(total_revenue))"
   ]
  },
  {
   "cell_type": "code",
   "execution_count": 9,
   "id": "bfd0c1f0",
   "metadata": {},
   "outputs": [
    {
     "name": "stdout",
     "output_type": "stream",
     "text": [
      "135.625\n"
     ]
    }
   ],
   "source": [
    "average_daily_revenue = total_revenue/len(last_week)\n",
    "\n",
    "print(average_daily_revenue)"
   ]
  },
  {
   "cell_type": "code",
   "execution_count": 11,
   "id": "6fde0d95",
   "metadata": {},
   "outputs": [
    {
     "name": "stdout",
     "output_type": "stream",
     "text": [
      "['bouffant', 'pixie', 'crew', 'bowl']\n"
     ]
    }
   ],
   "source": [
    "#Use a list comprehension to create cuts_under_30 that has the entry hairstyles[i] for each i for which new_prices[i] is less than 30.\n",
    "\n",
    "#formual is:\n",
    "# new_list = [old_list[i] for i in range(len(old_list)) if different_list[i] < 0]\n",
    "\n",
    "cuts_under_30 = [hairstyles[i] for i in range(len(hairstyles)) if new_prices[i] < 30]\n",
    "print(cuts_under_30)"
   ]
  },
  {
   "cell_type": "code",
   "execution_count": 1,
   "id": "1590cb6d",
   "metadata": {},
   "outputs": [],
   "source": [
    "#practice writing functions with loops\n",
    "\n",
    "def divisible_by_ten(nums):\n",
    "  count = 0\n",
    "  for i in nums:\n",
    "    if i % 10 == 0:\n",
    "      count += 1\n",
    "  return count"
   ]
  },
  {
   "cell_type": "code",
   "execution_count": 2,
   "id": "f12a8ad6",
   "metadata": {},
   "outputs": [
    {
     "name": "stdout",
     "output_type": "stream",
     "text": [
      "3\n"
     ]
    }
   ],
   "source": [
    "print(divisible_by_ten([20, 25, 30, 35, 40]))"
   ]
  },
  {
   "cell_type": "code",
   "execution_count": 3,
   "id": "f264fd24",
   "metadata": {},
   "outputs": [],
   "source": [
    "def add_greetings(names):\n",
    "  greetings = []\n",
    "  for n in names:\n",
    "    greetings.append(\"Hello, \" + n)\n",
    "  return greetings"
   ]
  },
  {
   "cell_type": "code",
   "execution_count": 4,
   "id": "3c605fa1",
   "metadata": {},
   "outputs": [
    {
     "name": "stdout",
     "output_type": "stream",
     "text": [
      "['Hello, Owen', 'Hello, Max', 'Hello, Sophie']\n"
     ]
    }
   ],
   "source": [
    "print(add_greetings([\"Owen\", \"Max\", \"Sophie\"]))"
   ]
  },
  {
   "cell_type": "code",
   "execution_count": 5,
   "id": "722c9b06",
   "metadata": {},
   "outputs": [
    {
     "name": "stdout",
     "output_type": "stream",
     "text": [
      "[11, 12, 15]\n",
      "[]\n"
     ]
    }
   ],
   "source": [
    "def delete_starting_evens(lst):\n",
    "  while len(lst) > 0 and lst[0] % 2 == 0:\n",
    "    lst = lst[1:] \n",
    "  return lst\n",
    "\n",
    "print(delete_starting_evens([4, 8, 10, 11, 12, 15]))\n",
    "print(delete_starting_evens([4, 8, 10]))"
   ]
  },
  {
   "cell_type": "code",
   "execution_count": 6,
   "id": "f4ed9261",
   "metadata": {},
   "outputs": [
    {
     "name": "stdout",
     "output_type": "stream",
     "text": [
      "[3, 10, -2]\n"
     ]
    }
   ],
   "source": [
    "def odd_indices(lst):\n",
    "  new_list = []\n",
    "  for index in range(1, len(lst), 2):\n",
    "    new_list.append(lst[index])\n",
    "  return new_list\n",
    "\n",
    "\n",
    "print(odd_indices([4, 3, 7, 10, 11, -2]))"
   ]
  },
  {
   "cell_type": "code",
   "execution_count": 7,
   "id": "00217af8",
   "metadata": {},
   "outputs": [
    {
     "name": "stdout",
     "output_type": "stream",
     "text": [
      "[2, 4, 8, 3, 9, 27, 4, 16, 64]\n"
     ]
    }
   ],
   "source": [
    "def exponents(bases, powers):\n",
    "  new_list = []\n",
    "  for b in bases:\n",
    "    for p in powers:\n",
    "      new_list.append(b ** p)\n",
    "  return new_list\n",
    "\n",
    "print(exponents([2, 3, 4], [1, 2, 3]))"
   ]
  },
  {
   "cell_type": "markdown",
   "id": "808bfb67",
   "metadata": {},
   "source": [
    "#### Create a function named over_nine_thousand() that takes a list of numbers named lst as a parameter.\n",
    "\n",
    "#### The function should sum the elements of the list until the sum is greater than 9000. When this happens, the function should return the sum. If the sum of all of the elements is never greater than 9000, the function should return total sum of all the elements. If the list is empty, the function should return 0."
   ]
  },
  {
   "cell_type": "code",
   "execution_count": 1,
   "id": "dfa1555c",
   "metadata": {},
   "outputs": [
    {
     "name": "stdout",
     "output_type": "stream",
     "text": [
      "9020\n"
     ]
    }
   ],
   "source": [
    "def over_nine_thousand(lst):\n",
    "  sum = 0\n",
    "  for item in lst:\n",
    "    sum += item\n",
    "    if (sum > 9000):\n",
    "      break\n",
    "  return sum\n",
    "\n",
    "print(over_nine_thousand([8000, 900, 120, 5000]))"
   ]
  },
  {
   "cell_type": "code",
   "execution_count": 1,
   "id": "2c172f69",
   "metadata": {},
   "outputs": [],
   "source": [
    "#Create a function named max_num() that takes a list of numbers named nums as a parameter.\n",
    "\n",
    "#The function should return the largest number in nums"
   ]
  },
  {
   "cell_type": "code",
   "execution_count": 2,
   "id": "e88ef3b5",
   "metadata": {},
   "outputs": [
    {
     "name": "stdout",
     "output_type": "stream",
     "text": [
      "75\n"
     ]
    }
   ],
   "source": [
    "def max_num(nums):\n",
    "  biggest = nums[0]\n",
    "  for n in nums:\n",
    "    if n > biggest:\n",
    "      biggest = n\n",
    "  return biggest\n",
    "\n",
    "print(max_num([50, -10, 0, 75, 20]))"
   ]
  },
  {
   "cell_type": "code",
   "execution_count": null,
   "id": "2c154198",
   "metadata": {},
   "outputs": [],
   "source": []
  }
 ],
 "metadata": {
  "kernelspec": {
   "display_name": "Python 3 (ipykernel)",
   "language": "python",
   "name": "python3"
  },
  "language_info": {
   "codemirror_mode": {
    "name": "ipython",
    "version": 3
   },
   "file_extension": ".py",
   "mimetype": "text/x-python",
   "name": "python",
   "nbconvert_exporter": "python",
   "pygments_lexer": "ipython3",
   "version": "3.9.7"
  }
 },
 "nbformat": 4,
 "nbformat_minor": 5
}
