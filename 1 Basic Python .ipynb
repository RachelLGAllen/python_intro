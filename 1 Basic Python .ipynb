{
 "cells": [
  {
   "cell_type": "markdown",
   "id": "2e3221f8",
   "metadata": {},
   "source": [
    "## Python notes\n",
    "\n",
    "### 1. print(), list, .append(), .remove()\n",
    "### 2. indexing\n",
    "### 3. len(), .insert(), .pop(), range()\n",
    "### 4. slicing\n",
    "### 5. sorted() and .sort()"
   ]
  },
  {
   "cell_type": "code",
   "execution_count": 1,
   "id": "3f654e1d",
   "metadata": {},
   "outputs": [],
   "source": [
    "import pandas as pd\n",
    "import numpy as np\n",
    "import os"
   ]
  },
  {
   "cell_type": "code",
   "execution_count": 2,
   "id": "eaecb3df",
   "metadata": {},
   "outputs": [
    {
     "name": "stdout",
     "output_type": "stream",
     "text": [
      "Hello World\n"
     ]
    }
   ],
   "source": [
    "#print\n",
    "print('Hello World')"
   ]
  },
  {
   "cell_type": "code",
   "execution_count": 3,
   "id": "039bd0d6",
   "metadata": {},
   "outputs": [
    {
     "name": "stdout",
     "output_type": "stream",
     "text": [
      "<class 'list'>\n"
     ]
    }
   ],
   "source": [
    "#create a list with brackets\n",
    "#hey dummy don't name things with functions\n",
    "\n",
    "list_1 = ['Becky', 'Nell', 'Jon']\n",
    "print(list)"
   ]
  },
  {
   "cell_type": "code",
   "execution_count": 4,
   "id": "2665880e",
   "metadata": {},
   "outputs": [
    {
     "name": "stdout",
     "output_type": "stream",
     "text": [
      "<class 'list'>\n"
     ]
    }
   ],
   "source": [
    "#.append()\n",
    "\n",
    "list_1.append('Mer')\n",
    "print(list)"
   ]
  },
  {
   "cell_type": "code",
   "execution_count": 5,
   "id": "0f1e3f33",
   "metadata": {},
   "outputs": [
    {
     "name": "stdout",
     "output_type": "stream",
     "text": [
      "<class 'list'>\n"
     ]
    }
   ],
   "source": [
    "#.remove() removes named value\n",
    "list_1.remove('Jon')\n",
    "print(list)"
   ]
  },
  {
   "cell_type": "code",
   "execution_count": 7,
   "id": "a2d8207c",
   "metadata": {},
   "outputs": [
    {
     "name": "stdout",
     "output_type": "stream",
     "text": [
      "['Becky', 'Nell', 'Mer', 'Hex', 'Jinx']\n"
     ]
    }
   ],
   "source": [
    "#add lists\n",
    "\n",
    "list_2 = ['Hex', 'Jinx']\n",
    "full_list = list_1 + list_2\n",
    "print(full_list)"
   ]
  },
  {
   "cell_type": "code",
   "execution_count": 8,
   "id": "6775987b",
   "metadata": {},
   "outputs": [
    {
     "data": {
      "text/plain": [
       "'Nell'"
      ]
     },
     "execution_count": 8,
     "metadata": {},
     "output_type": "execute_result"
    }
   ],
   "source": [
    "#python indexes at 1 so you can call values with []\n",
    "list_1[1]"
   ]
  },
  {
   "cell_type": "code",
   "execution_count": 9,
   "id": "55afebb8",
   "metadata": {},
   "outputs": [
    {
     "data": {
      "text/plain": [
       "'Mer'"
      ]
     },
     "execution_count": 9,
     "metadata": {},
     "output_type": "execute_result"
    }
   ],
   "source": [
    "#negative indexing\n",
    "\n",
    "list_1[-1]"
   ]
  },
  {
   "cell_type": "code",
   "execution_count": 10,
   "id": "ed7319aa",
   "metadata": {},
   "outputs": [
    {
     "name": "stdout",
     "output_type": "stream",
     "text": [
      "<class 'list'>\n"
     ]
    }
   ],
   "source": [
    "#replace values\n",
    "\n",
    "list_1[0] = 'Maggie'\n",
    "print(list)"
   ]
  },
  {
   "cell_type": "code",
   "execution_count": 11,
   "id": "e783dba8",
   "metadata": {},
   "outputs": [
    {
     "name": "stdout",
     "output_type": "stream",
     "text": [
      "[['Hex', 5], ['Jinx', 5], ['Becky', 39], ['Nell', 42]]\n"
     ]
    }
   ],
   "source": [
    "#nested lists\n",
    "\n",
    "list_3 = [['Hex', 5], ['Jinx', 5], ['Becky', 39], ['Nell', 42]]\n",
    "print(list_3)"
   ]
  },
  {
   "cell_type": "code",
   "execution_count": 12,
   "id": "6755a55e",
   "metadata": {},
   "outputs": [
    {
     "data": {
      "text/plain": [
       "'Jinx'"
      ]
     },
     "execution_count": 12,
     "metadata": {},
     "output_type": "execute_result"
    }
   ],
   "source": [
    "#access in lists\n",
    "\n",
    "list_3[1][0]"
   ]
  },
  {
   "cell_type": "code",
   "execution_count": 13,
   "id": "5e8022bc",
   "metadata": {},
   "outputs": [
    {
     "name": "stdout",
     "output_type": "stream",
     "text": [
      "[[5], ['Jinx', 5], ['Becky', 39], ['Nell', 42]]\n"
     ]
    }
   ],
   "source": [
    "#remove in nested lists\n",
    "\n",
    "list_3[0].remove('Hex')\n",
    "print(list_3)"
   ]
  },
  {
   "cell_type": "code",
   "execution_count": 14,
   "id": "42393686",
   "metadata": {},
   "outputs": [
    {
     "data": {
      "text/plain": [
       "1"
      ]
     },
     "execution_count": 14,
     "metadata": {},
     "output_type": "execute_result"
    }
   ],
   "source": [
    "#.count('value') counts the value\n",
    "\n",
    "list_1.count('Nell')"
   ]
  },
  {
   "cell_type": "code",
   "execution_count": 15,
   "id": "49ded54b",
   "metadata": {},
   "outputs": [
    {
     "data": {
      "text/plain": [
       "3"
      ]
     },
     "execution_count": 15,
     "metadata": {},
     "output_type": "execute_result"
    }
   ],
   "source": [
    "# len()\n",
    "len(list_1)"
   ]
  },
  {
   "cell_type": "code",
   "execution_count": 17,
   "id": "c0fae418",
   "metadata": {},
   "outputs": [
    {
     "name": "stdout",
     "output_type": "stream",
     "text": [
      "['Ariel', 'Ariel', 'Maggie', 'Nell', 'Mer']\n"
     ]
    }
   ],
   "source": [
    "# .insert(index, 'addition')\n",
    "\n",
    "list_1.insert(0, 'Ariel')\n",
    "print(list_1)"
   ]
  },
  {
   "cell_type": "code",
   "execution_count": 18,
   "id": "54ed15ed",
   "metadata": {},
   "outputs": [
    {
     "name": "stdout",
     "output_type": "stream",
     "text": [
      "['Ariel', 'Maggie', 'Nell', 'Mer']\n"
     ]
    }
   ],
   "source": [
    "#.pop(index)\n",
    "\n",
    "list_1.pop(1)\n",
    "print(list_1)"
   ]
  },
  {
   "cell_type": "code",
   "execution_count": 19,
   "id": "5e9429eb",
   "metadata": {},
   "outputs": [
    {
     "name": "stdout",
     "output_type": "stream",
     "text": [
      "Maggie\n"
     ]
    }
   ],
   "source": [
    "name = list_1.pop(1)\n",
    "print(name)"
   ]
  },
  {
   "cell_type": "code",
   "execution_count": null,
   "id": "f9473adb",
   "metadata": {},
   "outputs": [],
   "source": [
    "#range(from, to)\n",
    "#DON'T DO THIS if you redefine it it stops working (I am an idiot)\n",
    "\n",
    "#range = range(0, 9)"
   ]
  },
  {
   "cell_type": "code",
   "execution_count": 20,
   "id": "d148ab63",
   "metadata": {},
   "outputs": [
    {
     "name": "stdout",
     "output_type": "stream",
     "text": [
      "['Ariel', 'Nell', 'Mer']\n"
     ]
    }
   ],
   "source": [
    "print(list_1)"
   ]
  },
  {
   "cell_type": "code",
   "execution_count": 21,
   "id": "0b0311d9",
   "metadata": {},
   "outputs": [
    {
     "name": "stdout",
     "output_type": "stream",
     "text": [
      "[2, 4, 6, 8]\n"
     ]
    }
   ],
   "source": [
    "my_range2 = range(2, 9, 2)\n",
    "print(list(my_range2))"
   ]
  },
  {
   "cell_type": "code",
   "execution_count": 23,
   "id": "e4016bc5",
   "metadata": {},
   "outputs": [
    {
     "name": "stdout",
     "output_type": "stream",
     "text": [
      "[0, 1, 2, 3, 4, 5, 6, 7, 8]\n"
     ]
    }
   ],
   "source": [
    "#range takes 2 arguments, start and (before) finish\n",
    "my_range = range(0,9)\n",
    "print(list(my_range))"
   ]
  },
  {
   "cell_type": "code",
   "execution_count": 25,
   "id": "279846d2",
   "metadata": {},
   "outputs": [
    {
     "name": "stdout",
     "output_type": "stream",
     "text": [
      "[0, 5, 10, 15, 20, 25, 30, 35, 40, 45, 50, 55, 60, 65, 70, 75, 80, 85, 90, 95, 100]\n"
     ]
    }
   ],
   "source": [
    "#range takes 3 arguments, start-finish-count-by\n",
    "\n",
    "my_range1 = range(0,101, 5)\n",
    "print(list(my_range1))"
   ]
  },
  {
   "cell_type": "code",
   "execution_count": 26,
   "id": "ffc40ebc",
   "metadata": {},
   "outputs": [
    {
     "name": "stdout",
     "output_type": "stream",
     "text": [
      "['b', 'c', 'd', 'e', 'f']\n"
     ]
    }
   ],
   "source": [
    "#slicing [start : to one more than you want] \n",
    "letters = [\"a\", \"b\", \"c\", \"d\", \"e\", \"f\", \"g\"]\n",
    "\n",
    "sliced_list = letters[1:6]\n",
    "print(sliced_list)"
   ]
  },
  {
   "cell_type": "code",
   "execution_count": 27,
   "id": "a5f0f7e8",
   "metadata": {},
   "outputs": [
    {
     "name": "stdout",
     "output_type": "stream",
     "text": [
      "['a', 'b']\n"
     ]
    }
   ],
   "source": [
    "# select the first n elements list[:n]\n",
    "\n",
    "print(letters[:2])"
   ]
  },
  {
   "cell_type": "code",
   "execution_count": 28,
   "id": "b4a91140",
   "metadata": {},
   "outputs": [
    {
     "name": "stdout",
     "output_type": "stream",
     "text": [
      "['c', 'd', 'e', 'f', 'g']\n"
     ]
    }
   ],
   "source": [
    "#print from n onward\n",
    "\n",
    "print(letters[2:])"
   ]
  },
  {
   "cell_type": "code",
   "execution_count": 29,
   "id": "374eb49b",
   "metadata": {},
   "outputs": [
    {
     "name": "stdout",
     "output_type": "stream",
     "text": [
      "['e', 'f', 'g']\n"
     ]
    }
   ],
   "source": [
    "#you can also use negatives to slice\n",
    "\n",
    "print(letters[-3:])"
   ]
  },
  {
   "cell_type": "code",
   "execution_count": 32,
   "id": "a7445b2f",
   "metadata": {},
   "outputs": [
    {
     "name": "stdout",
     "output_type": "stream",
     "text": [
      "['Ariel', 'Mer', 'Nell']\n",
      "['Ariel', 'Mer', 'Nell']\n",
      "['Nell', 'Mer', 'Ariel']\n"
     ]
    }
   ],
   "source": [
    "#.sort() sorts a list alphabetically or .sort(reverse = True)\n",
    "#changes the actual list so doesn't need to be a variable\n",
    "\n",
    "print(list_1)\n",
    "list_1.sort()\n",
    "print(list_1)\n",
    "list_1.sort(reverse = True)\n",
    "print(list_1)"
   ]
  },
  {
   "cell_type": "code",
   "execution_count": 34,
   "id": "a69b3fca",
   "metadata": {},
   "outputs": [
    {
     "name": "stdout",
     "output_type": "stream",
     "text": [
      "['Ariel', 'Mer', 'Nell']\n"
     ]
    }
   ],
   "source": [
    "# sorted() isn't a funciton, it takes an argument\n",
    "#can be assigned to a variable\n",
    "\n",
    "sorted_list = sorted(list_1)\n",
    "print(sorted_list)"
   ]
  },
  {
   "cell_type": "code",
   "execution_count": 1,
   "id": "269273b5",
   "metadata": {},
   "outputs": [],
   "source": [
    "#using .zip() and list(zip)\n",
    "\n",
    "names = [\"Jenny\", \"Alexus\", \"Sam\", \"Grace\"]\n",
    "heights = [61, 70, 67, 64]"
   ]
  },
  {
   "cell_type": "code",
   "execution_count": 2,
   "id": "6624c414",
   "metadata": {},
   "outputs": [],
   "source": [
    "names_and_heights = zip(names, heights)"
   ]
  },
  {
   "cell_type": "code",
   "execution_count": 3,
   "id": "6045d2ff",
   "metadata": {},
   "outputs": [
    {
     "name": "stdout",
     "output_type": "stream",
     "text": [
      "<zip object at 0x7fb7d321ce80>\n"
     ]
    }
   ],
   "source": [
    "print(names_and_heights)"
   ]
  },
  {
   "cell_type": "code",
   "execution_count": 5,
   "id": "c44d8a07",
   "metadata": {},
   "outputs": [
    {
     "name": "stdout",
     "output_type": "stream",
     "text": [
      "[]\n"
     ]
    }
   ],
   "source": [
    "#these are not bracketed because they are tuples\n",
    "\n",
    "converted_list = list(names_and_heights)\n",
    "print(converted_list)"
   ]
  },
  {
   "cell_type": "code",
   "execution_count": null,
   "id": "edd0873d",
   "metadata": {},
   "outputs": [],
   "source": []
  }
 ],
 "metadata": {
  "kernelspec": {
   "display_name": "Python 3 (ipykernel)",
   "language": "python",
   "name": "python3"
  },
  "language_info": {
   "codemirror_mode": {
    "name": "ipython",
    "version": 3
   },
   "file_extension": ".py",
   "mimetype": "text/x-python",
   "name": "python",
   "nbconvert_exporter": "python",
   "pygments_lexer": "ipython3",
   "version": "3.9.7"
  }
 },
 "nbformat": 4,
 "nbformat_minor": 5
}
