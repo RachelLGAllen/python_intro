{
 "cells": [
  {
   "cell_type": "markdown",
   "id": "1342f706",
   "metadata": {},
   "source": [
    "## Table of Contents\n",
    "\n",
    "### 1. intro to strings \n",
    "\n",
    "### 2. functions with strings\n",
    "\n",
    "### 3. methods for strings -- .strip() .split() .lower() .upper() .title() .join() .format()\n",
    "\n",
    "### 4. mini string project"
   ]
  },
  {
   "cell_type": "code",
   "execution_count": 1,
   "id": "185daba7",
   "metadata": {},
   "outputs": [
    {
     "name": "stdout",
     "output_type": "stream",
     "text": [
      "R\n"
     ]
    }
   ],
   "source": [
    "#strings are also lists\n",
    "\n",
    "my_name = 'Rachel'\n",
    "first_initial = my_name[0]\n",
    "print(first_initial)\n"
   ]
  },
  {
   "cell_type": "code",
   "execution_count": 2,
   "id": "46f8857a",
   "metadata": {},
   "outputs": [
    {
     "name": "stdout",
     "output_type": "stream",
     "text": [
      "Rach\n"
     ]
    }
   ],
   "source": [
    "#you can slice strings\n",
    "\n",
    "new_account = my_name[:4]\n",
    "print(new_account)"
   ]
  },
  {
   "cell_type": "code",
   "execution_count": 3,
   "id": "e5d76bd4",
   "metadata": {},
   "outputs": [
    {
     "name": "stdout",
     "output_type": "stream",
     "text": [
      "che\n"
     ]
    }
   ],
   "source": [
    "temp_account = my_name[2:5]\n",
    "print(temp_account)"
   ]
  },
  {
   "cell_type": "code",
   "execution_count": 4,
   "id": "555e786d",
   "metadata": {},
   "outputs": [
    {
     "name": "stdout",
     "output_type": "stream",
     "text": [
      "ikouki\n"
     ]
    }
   ],
   "source": [
    "#Write a function called password_generator() that takes two inputs, first_name and last_name, and then concatenates the last three letters of each and returns them as a string.\n",
    "\n",
    "def password_generator(first_name, last_name):\n",
    "  name1 = first_name[len(first_name)-3:]\n",
    "  name2 = last_name[len(last_name)-3:]\n",
    "  return name1 + name2\n",
    "\n",
    "first_name = \"Reiko\"\n",
    "last_name = \"Matsuki\"\n",
    "\n",
    "temp_password = password_generator(first_name, last_name)\n",
    "\n",
    "print(temp_password)"
   ]
  },
  {
   "cell_type": "code",
   "execution_count": 5,
   "id": "2a7183ac",
   "metadata": {},
   "outputs": [
    {
     "name": "stdout",
     "output_type": "stream",
     "text": [
      "theycallme\"crazy\"91\n"
     ]
    }
   ],
   "source": [
    "#escape \\\" allows us to use characters like quotes in a string\n",
    "\n",
    "password = \"theycallme\\\"crazy\\\"91\"\n",
    "print(password)"
   ]
  },
  {
   "cell_type": "code",
   "execution_count": 6,
   "id": "8eb70596",
   "metadata": {},
   "outputs": [
    {
     "data": {
      "text/plain": [
       "True"
      ]
     },
     "execution_count": 6,
     "metadata": {},
     "output_type": "execute_result"
    }
   ],
   "source": [
    "def letter_check(word, letter):\n",
    "  for l in word:\n",
    "    if l == letter:\n",
    "      return True\n",
    "  return False\n",
    "\n",
    "letter_check('hello', 'h')"
   ]
  },
  {
   "cell_type": "code",
   "execution_count": 7,
   "id": "ee784731",
   "metadata": {},
   "outputs": [
    {
     "data": {
      "text/plain": [
       "False"
      ]
     },
     "execution_count": 7,
     "metadata": {},
     "output_type": "execute_result"
    }
   ],
   "source": [
    "letter_check('becky', 'q')"
   ]
  },
  {
   "cell_type": "code",
   "execution_count": 8,
   "id": "a1a49073",
   "metadata": {},
   "outputs": [
    {
     "name": "stdout",
     "output_type": "stream",
     "text": [
      "True\n",
      "False\n"
     ]
    }
   ],
   "source": [
    "#letter in word is a boolean phrase\n",
    "\n",
    "print('a' in 'bakery')\n",
    "print('a' in 'hello')\n"
   ]
  },
  {
   "cell_type": "code",
   "execution_count": 9,
   "id": "20f58f33",
   "metadata": {},
   "outputs": [
    {
     "name": "stdout",
     "output_type": "stream",
     "text": [
      "True\n"
     ]
    }
   ],
   "source": [
    "#letter in word also works for phrases\n",
    "\n",
    "print('blue' in 'blueberry')"
   ]
  },
  {
   "cell_type": "code",
   "execution_count": 10,
   "id": "2a1eef6f",
   "metadata": {},
   "outputs": [
    {
     "data": {
      "text/plain": [
       "['b']"
      ]
     },
     "execution_count": 10,
     "metadata": {},
     "output_type": "execute_result"
    }
   ],
   "source": [
    "#proud I figured this one out -- that if not was tricky\n",
    "\n",
    "def common_letters(string_one, string_two):\n",
    "  common = []\n",
    "  for l in string_one:\n",
    "    if l in string_two:\n",
    "      if not l in common:\n",
    "        common.append(l)\n",
    "  return common\n",
    "\n",
    "common_letters('becky', 'banana')"
   ]
  },
  {
   "cell_type": "code",
   "execution_count": 11,
   "id": "3ebffb07",
   "metadata": {},
   "outputs": [
    {
     "data": {
      "text/plain": [
       "['b', 'l']"
      ]
     },
     "execution_count": 11,
     "metadata": {},
     "output_type": "execute_result"
    }
   ],
   "source": [
    "common_letters('balloon', 'bell')"
   ]
  },
  {
   "cell_type": "code",
   "execution_count": 14,
   "id": "582e3fc0",
   "metadata": {},
   "outputs": [
    {
     "data": {
      "text/plain": [
       "'AbeSimp'"
      ]
     },
     "execution_count": 14,
     "metadata": {},
     "output_type": "execute_result"
    }
   ],
   "source": [
    "#I was supposed to use a loop for this but it was easier not to\n",
    "\n",
    "def username_generator(first_name, last_name):\n",
    "  name1 = first_name[:3]\n",
    "  name2 = last_name[:4]\n",
    "  return name1 + name2\n",
    "\n",
    "def password_generator(username):\n",
    "  password = []\n",
    "  first_letter = username[-1]\n",
    "  user_length = len(username)\n",
    "  pw = username[0:user_length - 1]\n",
    "  return first_letter + pw\n",
    "\n",
    "first_name = 'Abe'\n",
    "last_name = 'Simpson'\n",
    "\n",
    "username_generator('Abe', 'Simpson')\n"
   ]
  },
  {
   "cell_type": "code",
   "execution_count": 15,
   "id": "3051fb22",
   "metadata": {},
   "outputs": [
    {
     "data": {
      "text/plain": [
       "'pAbeSim'"
      ]
     },
     "execution_count": 15,
     "metadata": {},
     "output_type": "execute_result"
    }
   ],
   "source": [
    "password_generator('AbeSimp')"
   ]
  },
  {
   "cell_type": "code",
   "execution_count": 1,
   "id": "21f146e0",
   "metadata": {},
   "outputs": [
    {
     "name": "stdout",
     "output_type": "stream",
     "text": [
      "Spring Storm\n"
     ]
    }
   ],
   "source": [
    "# ways to modify strings\n",
    "# .lower() .upper() .title()\n",
    "\n",
    "poem_title = \"spring storm\"\n",
    "poem_author = \"William Carlos Williams\"\n",
    "\n",
    "poem_title_fixed = poem_title.title()\n",
    "\n",
    "print(poem_title_fixed)"
   ]
  },
  {
   "cell_type": "code",
   "execution_count": 2,
   "id": "521b5344",
   "metadata": {},
   "outputs": [
    {
     "name": "stdout",
     "output_type": "stream",
     "text": [
      "William Carlos Williams\n",
      "WILLIAM CARLOS WILLIAMS\n"
     ]
    }
   ],
   "source": [
    "poem_author_fixed = poem_author.upper()\n",
    "\n",
    "print(poem_author)\n",
    "print(poem_author_fixed)"
   ]
  },
  {
   "cell_type": "code",
   "execution_count": 3,
   "id": "618367c7",
   "metadata": {},
   "outputs": [
    {
     "name": "stdout",
     "output_type": "stream",
     "text": [
      "['The', 'sky', 'has', 'given', 'over']\n"
     ]
    }
   ],
   "source": [
    "# .split() finds a delimiter, defaults to spaces\n",
    "\n",
    "line_one = \"The sky has given over\"\n",
    "\n",
    "line_one_words = line_one.split()\n",
    "print(line_one_words)"
   ]
  },
  {
   "cell_type": "code",
   "execution_count": 4,
   "id": "0e683dd7",
   "metadata": {},
   "outputs": [
    {
     "name": "stdout",
     "output_type": "stream",
     "text": [
      "['Audre Lorde', 'Gabriela Mistral', 'Jean Toomer', 'An Qi', 'Walt Whitman', 'Shel Silverstein', 'Carmen Boullosa', 'Kamala Suraiyya', 'Langston Hughes', 'Adrienne Rich', 'Nikki Giovanni']\n"
     ]
    }
   ],
   "source": [
    "#split this list into authors\n",
    "authors = \"Audre Lorde,Gabriela Mistral,Jean Toomer,An Qi,Walt Whitman,Shel Silverstein,Carmen Boullosa,Kamala Suraiyya,Langston Hughes,Adrienne Rich,Nikki Giovanni\"\n",
    "\n",
    "author_names = authors.split(',')\n",
    "print(author_names)"
   ]
  },
  {
   "cell_type": "code",
   "execution_count": 5,
   "id": "de87557a",
   "metadata": {},
   "outputs": [
    {
     "name": "stdout",
     "output_type": "stream",
     "text": [
      "['Lorde', 'Mistral', 'Toomer', 'Qi', 'Whitman', 'Silverstein', 'Boullosa', 'Suraiyya', 'Hughes', 'Rich', 'Giovanni']\n"
     ]
    }
   ],
   "source": [
    "#this took forever\n",
    "#add only last names to a list\n",
    "\n",
    "author_last_names = []\n",
    "for author in author_names:\n",
    "  author_last_names.append(author.split()[-1])\n",
    "\n",
    "print(author_last_names)"
   ]
  },
  {
   "cell_type": "code",
   "execution_count": 6,
   "id": "db3e40ca",
   "metadata": {},
   "outputs": [],
   "source": [
    "#split at ('\\n') to split at new lines\n",
    "#split at ('\\t') to split at tabs"
   ]
  },
  {
   "cell_type": "code",
   "execution_count": 7,
   "id": "9b22e76a",
   "metadata": {},
   "outputs": [
    {
     "name": "stdout",
     "output_type": "stream",
     "text": [
      "Black reapers with the sound of steel on stones\n"
     ]
    }
   ],
   "source": [
    "# .join works differently!\n",
    "# 'delimiter'.join(string)\n",
    "\n",
    "reapers_line_one_words = [\"Black\", \"reapers\", \"with\", \"the\", \"sound\", \"of\", \"steel\", \"on\", \"stones\"]\n",
    "\n",
    "reapers_line_one = ' '.join(reapers_line_one_words)\n",
    "print(reapers_line_one)"
   ]
  },
  {
   "cell_type": "code",
   "execution_count": 8,
   "id": "b072457a",
   "metadata": {},
   "outputs": [
    {
     "name": "stdout",
     "output_type": "stream",
     "text": [
      "All the complicated details\n",
      "of the attiring and\n",
      "the disattiring are completed!\n",
      "A liquid moon\n",
      "moves gently among\n",
      "the long branches.\n",
      "Thus having prepared their buds\n",
      "against a sure winter\n",
      "the wise trees\n",
      "stand sleeping in the cold.\n"
     ]
    }
   ],
   "source": [
    "winter_trees_lines = ['All the complicated details', 'of the attiring and', 'the disattiring are completed!', 'A liquid moon', 'moves gently among', 'the long branches.', 'Thus having prepared their buds', 'against a sure winter', 'the wise trees', 'stand sleeping in the cold.']\n",
    "\n",
    "winter_trees_full = '\\n'.join(winter_trees_lines)\n",
    "\n",
    "print(winter_trees_full)"
   ]
  },
  {
   "cell_type": "code",
   "execution_count": 9,
   "id": "2607a34f",
   "metadata": {},
   "outputs": [
    {
     "name": "stdout",
     "output_type": "stream",
     "text": [
      "['Always', 'in the middle of our bloodiest battles', 'you lay down your arms', 'like flowering mines', '', 'to conquer me home.']\n"
     ]
    }
   ],
   "source": [
    "# string.strip('delimiter')\n",
    "\n",
    "love_maybe_lines = ['Always    ', '     in the middle of our bloodiest battles  ', 'you lay down your arms', '           like flowering mines    ','\\n' ,'   to conquer me home.    ']\n",
    "\n",
    "love_maybe_lines_stripped = []\n",
    "\n",
    "for line in love_maybe_lines:\n",
    "  love_maybe_lines_stripped.append(line.strip())\n",
    "\n",
    "print(love_maybe_lines_stripped)\n"
   ]
  },
  {
   "cell_type": "code",
   "execution_count": 10,
   "id": "2d2f260c",
   "metadata": {},
   "outputs": [
    {
     "name": "stdout",
     "output_type": "stream",
     "text": [
      "Always\n",
      "in the middle of our bloodiest battles\n",
      "you lay down your arms\n",
      "like flowering mines\n",
      "\n",
      "to conquer me home.\n"
     ]
    }
   ],
   "source": [
    "love_maybe_full = '\\n'.join(love_maybe_lines_stripped)\n",
    "\n",
    "print(love_maybe_full)"
   ]
  },
  {
   "cell_type": "code",
   "execution_count": 11,
   "id": "b931a552",
   "metadata": {},
   "outputs": [
    {
     "name": "stdout",
     "output_type": "stream",
     "text": [
      "Her name is Rosie\n"
     ]
    }
   ],
   "source": [
    "# .replace()\n",
    "# string_name.replace(substring_being_replaced, new_substring)\n",
    "\n",
    "misspelled_string = \"Her name is Rosy\"\n",
    "\n",
    "correct_string = misspelled_string.replace('Rosy', 'Rosie')\n",
    "print(correct_string)"
   ]
  },
  {
   "cell_type": "code",
   "execution_count": 12,
   "id": "f735bbd4",
   "metadata": {},
   "outputs": [],
   "source": [
    "# .find()\n",
    "#'string'.find('letter')"
   ]
  },
  {
   "cell_type": "code",
   "execution_count": 13,
   "id": "1c8e817c",
   "metadata": {},
   "outputs": [
    {
     "data": {
      "text/plain": [
       "'The poem \"I Hear America Singing\" is written by Walt Whitman.'"
      ]
     },
     "execution_count": 13,
     "metadata": {},
     "output_type": "execute_result"
    }
   ],
   "source": [
    "#.format\n",
    "\n",
    "def poem_title_card(title, poet):\n",
    "  return 'The poem \"{}\" is written by {}.'.format(title, poet)\n",
    "\n",
    "poem_title_card(\"I Hear America Singing\", \"Walt Whitman\")"
   ]
  },
  {
   "cell_type": "code",
   "execution_count": 14,
   "id": "2b339e58",
   "metadata": {},
   "outputs": [
    {
     "name": "stdout",
     "output_type": "stream",
     "text": [
      "The poem My Beard by Shel Silverstein was originally published in Where the Sidewalk Ends in 1974.\n"
     ]
    }
   ],
   "source": [
    "#use keywords\n",
    "\n",
    "def poem_description(publishing_date, author, title, original_work):\n",
    "  poem_desc = \"The poem {title} by {author} was originally published in {original_work} in {publishing_date}.\".format(publishing_date = publishing_date, author=author, title=title, original_work=original_work)\n",
    "  return poem_desc\n",
    "\n",
    "my_beard_description = poem_description(1974, 'Shel Silverstein', 'My Beard','Where the Sidewalk Ends') \n",
    "\n",
    "print(my_beard_description)"
   ]
  },
  {
   "cell_type": "code",
   "execution_count": 15,
   "id": "ac6c1524",
   "metadata": {},
   "outputs": [],
   "source": [
    "highlighted_poems = \"Afterimages:Audre Lorde:1997,  The Shadow:William Carlos Williams:1915, Ecstasy:Gabriela Mistral:1925,   Georgia Dusk:Jean Toomer:1923,   Parting Before Daybreak:An Qi:2014, The Untold Want:Walt Whitman:1871, Mr. Grumpledump's Song:Shel Silverstein:2004, Angel Sound Mexico City:Carmen Boullosa:2013, In Love:Kamala Suraiyya:1965, Dream Variations:Langston Hughes:1994, Dreamwood:Adrienne Rich:1987\""
   ]
  },
  {
   "cell_type": "code",
   "execution_count": 16,
   "id": "67b19969",
   "metadata": {},
   "outputs": [
    {
     "name": "stdout",
     "output_type": "stream",
     "text": [
      "['Afterimages:Audre Lorde:1997', '  The Shadow:William Carlos Williams:1915', ' Ecstasy:Gabriela Mistral:1925', '   Georgia Dusk:Jean Toomer:1923', '   Parting Before Daybreak:An Qi:2014', ' The Untold Want:Walt Whitman:1871', \" Mr. Grumpledump's Song:Shel Silverstein:2004\", ' Angel Sound Mexico City:Carmen Boullosa:2013', ' In Love:Kamala Suraiyya:1965', ' Dream Variations:Langston Hughes:1994', ' Dreamwood:Adrienne Rich:1987']\n"
     ]
    }
   ],
   "source": [
    "#split at the commas\n",
    "\n",
    "highlighted_poems_list = highlighted_poems.split(',')\n",
    "print(highlighted_poems_list)"
   ]
  },
  {
   "cell_type": "code",
   "execution_count": 17,
   "id": "19235df4",
   "metadata": {},
   "outputs": [
    {
     "name": "stdout",
     "output_type": "stream",
     "text": [
      "['Afterimages:Audre Lorde:1997', 'The Shadow:William Carlos Williams:1915', 'Ecstasy:Gabriela Mistral:1925', 'Georgia Dusk:Jean Toomer:1923', 'Parting Before Daybreak:An Qi:2014', 'The Untold Want:Walt Whitman:1871', \"Mr. Grumpledump's Song:Shel Silverstein:2004\", 'Angel Sound Mexico City:Carmen Boullosa:2013', 'In Love:Kamala Suraiyya:1965', 'Dream Variations:Langston Hughes:1994', 'Dreamwood:Adrienne Rich:1987']\n"
     ]
    }
   ],
   "source": [
    "#strip weird white space\n",
    "\n",
    "highlighted_poems_stripped=[]\n",
    "\n",
    "for poem in highlighted_poems_list:\n",
    "  highlighted_poems_stripped.append(poem.strip())\n",
    "\n",
    "print(highlighted_poems_stripped)"
   ]
  },
  {
   "cell_type": "code",
   "execution_count": 18,
   "id": "0097ddd8",
   "metadata": {},
   "outputs": [
    {
     "name": "stdout",
     "output_type": "stream",
     "text": [
      "[['Afterimages', 'Audre Lorde', '1997'], ['The Shadow', 'William Carlos Williams', '1915'], ['Ecstasy', 'Gabriela Mistral', '1925'], ['Georgia Dusk', 'Jean Toomer', '1923'], ['Parting Before Daybreak', 'An Qi', '2014'], ['The Untold Want', 'Walt Whitman', '1871'], [\"Mr. Grumpledump's Song\", 'Shel Silverstein', '2004'], ['Angel Sound Mexico City', 'Carmen Boullosa', '2013'], ['In Love', 'Kamala Suraiyya', '1965'], ['Dream Variations', 'Langston Hughes', '1994'], ['Dreamwood', 'Adrienne Rich', '1987']]\n"
     ]
    }
   ],
   "source": [
    "#break poems into their own lists\n",
    "\n",
    "highlighted_poems_details = []\n",
    "\n",
    "for poem in highlighted_poems_stripped:\n",
    "  highlighted_poems_details.append(poem.split(':'))\n",
    "\n",
    "print(highlighted_poems_details)"
   ]
  },
  {
   "cell_type": "code",
   "execution_count": 20,
   "id": "790d85cb",
   "metadata": {},
   "outputs": [],
   "source": [
    "#separate titles, poets, and dates in to their own lists\n",
    "\n",
    "titles = []\n",
    "poets = []\n",
    "dates = []\n",
    "\n",
    "for poem in highlighted_poems_details:\n",
    "  titles.append(poem[0])\n",
    "  poets.append(poem[1])\n",
    "  dates.append(poem[2])\n",
    "\n"
   ]
  },
  {
   "cell_type": "code",
   "execution_count": 22,
   "id": "5fcf4a9e",
   "metadata": {},
   "outputs": [
    {
     "name": "stdout",
     "output_type": "stream",
     "text": [
      "The poem Afterimages was published by Audre Lorde in 1997\n",
      "The poem The Shadow was published by William Carlos Williams in 1915\n",
      "The poem Ecstasy was published by Gabriela Mistral in 1925\n",
      "The poem Georgia Dusk was published by Jean Toomer in 1923\n",
      "The poem Parting Before Daybreak was published by An Qi in 2014\n",
      "The poem The Untold Want was published by Walt Whitman in 1871\n",
      "The poem Mr. Grumpledump's Song was published by Shel Silverstein in 2004\n",
      "The poem Angel Sound Mexico City was published by Carmen Boullosa in 2013\n",
      "The poem In Love was published by Kamala Suraiyya in 1965\n",
      "The poem Dream Variations was published by Langston Hughes in 1994\n",
      "The poem Dreamwood was published by Adrienne Rich in 1987\n"
     ]
    }
   ],
   "source": [
    "#write a for loop using .format() to print out a string for each\n",
    "#had a lot of trouble with this\n",
    "\n",
    "for i in range(0,len(highlighted_poems_details)):\n",
    "    print('The poem {} was published by {} in {}'.format(titles[i], poets[i], dates[i]))"
   ]
  },
  {
   "cell_type": "code",
   "execution_count": 1,
   "id": "539b16e3",
   "metadata": {},
   "outputs": [
    {
     "name": "stdout",
     "output_type": "stream",
     "text": [
      "['Edith Mcbride   +$1.21   +   white + \\n09/15/17   ', 'Herbert Tran   +   $7.29+ \\nwhite&blue+   09/15/17 ', 'Paul Clarke +$12.52 \\n+   white&blue + 09/15/17 ', 'Lucille Caldwell   \\n+   $5.13   + white   + 09/15/17', '\\nEduardo George   +$20.39+ white&yellow \\n+09/15/17   ', '   Danny Mclaughlin+$30.82+   \\npurple +09/15/17 ', 'Stacy Vargas+ $1.85   + \\npurple&yellow +09/15/17', '   Shaun Brock+ \\n$17.98+purple&yellow + 09/15/17 ', ' \\nErick Harper +$17.41+ blue + 09/15/17', ' \\nMichelle Howell +$28.59+ blue+   09/15/17   ', ' \\nCarroll Boyd+ $14.51+   purple&blue   +   \\n09/15/17   ', ' Teresa Carter   + $19.64 + \\nwhite+09/15/17   ', '   Jacob Kennedy + $11.40   \\n+ white&red   + 09/15/17', ' Craig Chambers+ \\n$8.79 + white&blue&red   +09/15/17   ', ' Peggy Bell+ $8.65 +blue   + 09/15/17', '   Kenneth Cunningham +   $10.53+   green&blue   + \\n09/15/17   ', '   Marvin Morgan+   $16.49+ \\ngreen&blue&red   +   09/15/17 ', 'Marjorie Russell \\n+ $6.55 +   green&blue&red+   09/15/17 ', '\\nIsrael Cummings+   $11.86   +black+  \\n09/15/17', '   June Doyle   +   $22.29 +  \\nblack&yellow +09/15/17 ', ' Jaime Buchanan   +   \\n$8.35+   white&black&yellow   +   09/15/17', '   \\nRhonda Farmer+$2.91 +   white&black&yellow   \\n+09/15/17', ' Darren Mckenzie +$22.94+green \\n+09/15/17', 'Rufus Malone+$4.70   + green&yellow \\n+ 09/15/17   ', 'Hubert Miles+   $3.59   \\n+green&yellow&blue+   09/15/17   ', ' Joseph Bridges  +$5.66   + green&yellow&purple&blue \\n+   09/15/17 ', ' Sergio Murphy   +$17.51   +   \\nblack   +   09/15/17 ', ' Audrey Ferguson + \\n$5.54+black&blue   +09/15/17 ', 'Edna Williams + \\n$17.13+ black&blue+   09/15/17', '   Randy Fleming+   $21.13 +black +09/15/17 ', 'Elisa Hart+ $0.35   + black&purple+   09/15/17   ', '\\nErnesto Hunt + $13.91   +   black&purple +   \\n09/15/17', '   Shannon Chavez   +$19.26   + \\nyellow+ 09/15/17   ', ' Sammy Cain+ $5.45+   \\nyellow&red +09/15/17 ', '   Steven Reeves +$5.50   \\n+   yellow+   09/15/17', ' Ruben Jones   + \\n$14.56 +   yellow&blue+09/15/17 ', ' Essie Hansen+   $7.33   +   yellow&blue&red\\n+ 09/15/17   ', '   Rene Hardy   + $20.22   + \\nblack +   09/15/17 ', '   Lucy Snyder   + $8.67   \\n+black&red  + 09/15/17 ', 'Dallas Obrien +   \\n$8.31+   black&red +   09/15/17', '   Stacey Payne \\n+   $15.70   +   white&black&red +09/15/17   \\n', '   Tanya Cox   +   $6.74   +yellow   + \\n09/15/17 ', ' Melody Moran +   $30.84   \\n+yellow&black+   09/15/17 ', ' Louise Becker   + \\n$12.31 + green&yellow&black+   09/15/17 ', '\\nRyan Webster+$2.94 + yellow + 09/15/17 \\n', 'Justin Blake + $22.46   +white&yellow +   \\n09/15/17', '   Beverly Baldwin +   $6.60+   \\nwhite&yellow&black +09/15/17   ', '   Dale Brady   \\n+   $6.27 + yellow   +09/15/17 ', 'Guadalupe Potter +$21.12   + yellow+ 09/15/17   ', ' \\nDesiree Butler +$2.10   +white+ 09/15/17  \\n', 'Sonja Barnett + $14.22 +white&black+   \\n09/15/17', ' Angelica Garza+$11.60+white&black   \\n+   09/15/17   ', '   Jamie Welch   + $25.27   + \\nwhite&black&red +09/15/17   ', '   Rex Hudson   \\n+$8.26+   purple+ 09/15/17 ', '   Nadine Gibbs \\n+   $30.80 +   purple&yellow   + 09/15/17   ', ' \\nHannah Pratt+   $22.61   +   purple&yellow   \\n+09/15/17', 'Gayle Richards+$22.19 + \\ngreen&purple&yellow +09/15/17   ', 'Stanley Holland \\n+ $7.47   + red + 09/15/17 ', ' Anna Dean+$5.49 + yellow&red +   09/15/17   ', '\\nTerrance Saunders +   $23.70  +green&yellow&red \\n+ 09/15/17 ', '   Brandi Zimmerman + $26.66 + \\nred   +09/15/17 ', 'Guadalupe Freeman + $25.95+ \\ngreen&red +   09/15/17   ', 'Irving Patterson \\n+$19.55 + green&white&red +   09/15/17 ', 'Karl Ross+   $15.68+   white +   09/15/17 ', ' Brandy Cortez +$23.57+   white&red   +09/15/17', ' \\nMamie Riley   +$29.32+ purple+09/15/17 ', 'Mike Thornton   + $26.44 +   purple   + 09/15/17', ' \\nJamie Vaughn   + $17.24+green + 09/15/17   ', ' \\nNoah Day +   $8.49   +green   +09/15/17   \\n', 'Josephine Keller +$13.10 +green+   09/15/17 ', '   Tracey Wolfe+$20.39 + red   + 09/15/17 ', '\\nIgnacio Parks+$14.70   + white&red +09/15/17 \\n', ' Beatrice Newman +$22.45   +white&purple&red \\n+   09/15/17', ' Andre Norris   +   $28.46   +   \\nred+   09/15/17 ', '   Albert Lewis + $23.89+   \\nblack&red+ 09/15/17', '   Javier Bailey   +   \\n$24.49   + black&red + 09/15/17   ', ' Everett Lyons +$1.81+   black&red + 09/15/17 ', '   \\nAbraham Maxwell+ $6.81   +green+   09/15/17   \\n', '   Traci Craig +$0.65+ green&yellow+ \\n09/15/17 ', ' Jeffrey Jenkins   +$26.45+ \\ngreen&yellow&blue   +   09/15/17', '   Merle Wilson \\n+   $7.69 + purple+ 09/15/17', 'Janis Franklin   \\n+$8.74   + purple&black   +09/15/17 ', '  \\nLeonard Guerrero +   $1.86   +yellow  \\n+09/15/17', 'Lana Sanchez+$14.75   + yellow+   \\n09/15/17   ', 'Donna Ball + $28.10  + \\nyellow&blue+   09/15/17   ', ' Terrell Barber   + \\n$9.91   + green +09/15/17   ', 'Jody Flores+ \\n$16.34 + green +   09/15/17', '   Daryl Herrera \\n+$27.57+ white+   09/15/17   ', ' Miguel Mcguire+$5.25+ white&blue   +   09/15/17 ', '   \\nRogelio Gonzalez+ $9.51+   white&black&blue   \\n+   09/15/17   ', '   Lora Hammond +$20.56 + \\ngreen+   09/15/17', 'Owen Ward+ $21.64   +   \\ngreen&yellow+09/15/17', 'Malcolm Morales +   \\n$24.99   +   green&yellow&black+ 09/15/17 ', '   \\nEric Mcdaniel +$29.70+ green + 09/15/17 \\n', 'Madeline Estrada+   $15.52+green+   09/15/17 \\n', ' Leticia Manning+$15.70 + green&purple+ \\n09/15/17 ', '   Mario Wallace + $12.36 +green + \\n09/15/17', 'Lewis Glover+   $13.66   +   \\ngreen&white+09/15/17', '   Gail Phelps   +$30.52   \\n+ green&white&blue   + 09/15/17 ', ' Myrtle Morris \\n+   $22.66   + green&white&blue+09/15/17']\n"
     ]
    }
   ],
   "source": [
    "#string project\n",
    "\n",
    "daily_sales = \\\n",
    "\"\"\"Edith Mcbride   ;,;$1.21   ;,;   white ;,; \n",
    "09/15/17   ,Herbert Tran   ;,;   $7.29;,; \n",
    "white&blue;,;   09/15/17 ,Paul Clarke ;,;$12.52 \n",
    ";,;   white&blue ;,; 09/15/17 ,Lucille Caldwell   \n",
    ";,;   $5.13   ;,; white   ;,; 09/15/17,\n",
    "Eduardo George   ;,;$20.39;,; white&yellow \n",
    ";,;09/15/17   ,   Danny Mclaughlin;,;$30.82;,;   \n",
    "purple ;,;09/15/17 ,Stacy Vargas;,; $1.85   ;,; \n",
    "purple&yellow ;,;09/15/17,   Shaun Brock;,; \n",
    "$17.98;,;purple&yellow ;,; 09/15/17 , \n",
    "Erick Harper ;,;$17.41;,; blue ;,; 09/15/17, \n",
    "Michelle Howell ;,;$28.59;,; blue;,;   09/15/17   , \n",
    "Carroll Boyd;,; $14.51;,;   purple&blue   ;,;   \n",
    "09/15/17   , Teresa Carter   ;,; $19.64 ;,; \n",
    "white;,;09/15/17   ,   Jacob Kennedy ;,; $11.40   \n",
    ";,; white&red   ;,; 09/15/17, Craig Chambers;,; \n",
    "$8.79 ;,; white&blue&red   ;,;09/15/17   , Peggy Bell;,; $8.65 ;,;blue   ;,; 09/15/17,   Kenneth Cunningham ;,;   $10.53;,;   green&blue   ;,; \n",
    "09/15/17   ,   Marvin Morgan;,;   $16.49;,; \n",
    "green&blue&red   ;,;   09/15/17 ,Marjorie Russell \n",
    ";,; $6.55 ;,;   green&blue&red;,;   09/15/17 ,\n",
    "Israel Cummings;,;   $11.86   ;,;black;,;  \n",
    "09/15/17,   June Doyle   ;,;   $22.29 ;,;  \n",
    "black&yellow ;,;09/15/17 , Jaime Buchanan   ;,;   \n",
    "$8.35;,;   white&black&yellow   ;,;   09/15/17,   \n",
    "Rhonda Farmer;,;$2.91 ;,;   white&black&yellow   \n",
    ";,;09/15/17, Darren Mckenzie ;,;$22.94;,;green \n",
    ";,;09/15/17,Rufus Malone;,;$4.70   ;,; green&yellow \n",
    ";,; 09/15/17   ,Hubert Miles;,;   $3.59   \n",
    ";,;green&yellow&blue;,;   09/15/17   , Joseph Bridges  ;,;$5.66   ;,; green&yellow&purple&blue \n",
    ";,;   09/15/17 , Sergio Murphy   ;,;$17.51   ;,;   \n",
    "black   ;,;   09/15/17 , Audrey Ferguson ;,; \n",
    "$5.54;,;black&blue   ;,;09/15/17 ,Edna Williams ;,; \n",
    "$17.13;,; black&blue;,;   09/15/17,   Randy Fleming;,;   $21.13 ;,;black ;,;09/15/17 ,Elisa Hart;,; $0.35   ;,; black&purple;,;   09/15/17   ,\n",
    "Ernesto Hunt ;,; $13.91   ;,;   black&purple ;,;   \n",
    "09/15/17,   Shannon Chavez   ;,;$19.26   ;,; \n",
    "yellow;,; 09/15/17   , Sammy Cain;,; $5.45;,;   \n",
    "yellow&red ;,;09/15/17 ,   Steven Reeves ;,;$5.50   \n",
    ";,;   yellow;,;   09/15/17, Ruben Jones   ;,; \n",
    "$14.56 ;,;   yellow&blue;,;09/15/17 , Essie Hansen;,;   $7.33   ;,;   yellow&blue&red\n",
    ";,; 09/15/17   ,   Rene Hardy   ;,; $20.22   ;,; \n",
    "black ;,;   09/15/17 ,   Lucy Snyder   ;,; $8.67   \n",
    ";,;black&red  ;,; 09/15/17 ,Dallas Obrien ;,;   \n",
    "$8.31;,;   black&red ;,;   09/15/17,   Stacey Payne \n",
    ";,;   $15.70   ;,;   white&black&red ;,;09/15/17   \n",
    ",   Tanya Cox   ;,;   $6.74   ;,;yellow   ;,; \n",
    "09/15/17 , Melody Moran ;,;   $30.84   \n",
    ";,;yellow&black;,;   09/15/17 , Louise Becker   ;,; \n",
    "$12.31 ;,; green&yellow&black;,;   09/15/17 ,\n",
    "Ryan Webster;,;$2.94 ;,; yellow ;,; 09/15/17 \n",
    ",Justin Blake ;,; $22.46   ;,;white&yellow ;,;   \n",
    "09/15/17,   Beverly Baldwin ;,;   $6.60;,;   \n",
    "white&yellow&black ;,;09/15/17   ,   Dale Brady   \n",
    ";,;   $6.27 ;,; yellow   ;,;09/15/17 ,Guadalupe Potter ;,;$21.12   ;,; yellow;,; 09/15/17   , \n",
    "Desiree Butler ;,;$2.10   ;,;white;,; 09/15/17  \n",
    ",Sonja Barnett ;,; $14.22 ;,;white&black;,;   \n",
    "09/15/17, Angelica Garza;,;$11.60;,;white&black   \n",
    ";,;   09/15/17   ,   Jamie Welch   ;,; $25.27   ;,; \n",
    "white&black&red ;,;09/15/17   ,   Rex Hudson   \n",
    ";,;$8.26;,;   purple;,; 09/15/17 ,   Nadine Gibbs \n",
    ";,;   $30.80 ;,;   purple&yellow   ;,; 09/15/17   , \n",
    "Hannah Pratt;,;   $22.61   ;,;   purple&yellow   \n",
    ";,;09/15/17,Gayle Richards;,;$22.19 ;,; \n",
    "green&purple&yellow ;,;09/15/17   ,Stanley Holland \n",
    ";,; $7.47   ;,; red ;,; 09/15/17 , Anna Dean;,;$5.49 ;,; yellow&red ;,;   09/15/17   ,\n",
    "Terrance Saunders ;,;   $23.70  ;,;green&yellow&red \n",
    ";,; 09/15/17 ,   Brandi Zimmerman ;,; $26.66 ;,; \n",
    "red   ;,;09/15/17 ,Guadalupe Freeman ;,; $25.95;,; \n",
    "green&red ;,;   09/15/17   ,Irving Patterson \n",
    ";,;$19.55 ;,; green&white&red ;,;   09/15/17 ,Karl Ross;,;   $15.68;,;   white ;,;   09/15/17 , Brandy Cortez ;,;$23.57;,;   white&red   ;,;09/15/17, \n",
    "Mamie Riley   ;,;$29.32;,; purple;,;09/15/17 ,Mike Thornton   ;,; $26.44 ;,;   purple   ;,; 09/15/17, \n",
    "Jamie Vaughn   ;,; $17.24;,;green ;,; 09/15/17   , \n",
    "Noah Day ;,;   $8.49   ;,;green   ;,;09/15/17   \n",
    ",Josephine Keller ;,;$13.10 ;,;green;,;   09/15/17 ,   Tracey Wolfe;,;$20.39 ;,; red   ;,; 09/15/17 ,\n",
    "Ignacio Parks;,;$14.70   ;,; white&red ;,;09/15/17 \n",
    ", Beatrice Newman ;,;$22.45   ;,;white&purple&red \n",
    ";,;   09/15/17, Andre Norris   ;,;   $28.46   ;,;   \n",
    "red;,;   09/15/17 ,   Albert Lewis ;,; $23.89;,;   \n",
    "black&red;,; 09/15/17,   Javier Bailey   ;,;   \n",
    "$24.49   ;,; black&red ;,; 09/15/17   , Everett Lyons ;,;$1.81;,;   black&red ;,; 09/15/17 ,   \n",
    "Abraham Maxwell;,; $6.81   ;,;green;,;   09/15/17   \n",
    ",   Traci Craig ;,;$0.65;,; green&yellow;,; \n",
    "09/15/17 , Jeffrey Jenkins   ;,;$26.45;,; \n",
    "green&yellow&blue   ;,;   09/15/17,   Merle Wilson \n",
    ";,;   $7.69 ;,; purple;,; 09/15/17,Janis Franklin   \n",
    ";,;$8.74   ;,; purple&black   ;,;09/15/17 ,  \n",
    "Leonard Guerrero ;,;   $1.86   ;,;yellow  \n",
    ";,;09/15/17,Lana Sanchez;,;$14.75   ;,; yellow;,;   \n",
    "09/15/17   ,Donna Ball ;,; $28.10  ;,; \n",
    "yellow&blue;,;   09/15/17   , Terrell Barber   ;,; \n",
    "$9.91   ;,; green ;,;09/15/17   ,Jody Flores;,; \n",
    "$16.34 ;,; green ;,;   09/15/17,   Daryl Herrera \n",
    ";,;$27.57;,; white;,;   09/15/17   , Miguel Mcguire;,;$5.25;,; white&blue   ;,;   09/15/17 ,   \n",
    "Rogelio Gonzalez;,; $9.51;,;   white&black&blue   \n",
    ";,;   09/15/17   ,   Lora Hammond ;,;$20.56 ;,; \n",
    "green;,;   09/15/17,Owen Ward;,; $21.64   ;,;   \n",
    "green&yellow;,;09/15/17,Malcolm Morales ;,;   \n",
    "$24.99   ;,;   green&yellow&black;,; 09/15/17 ,   \n",
    "Eric Mcdaniel ;,;$29.70;,; green ;,; 09/15/17 \n",
    ",Madeline Estrada;,;   $15.52;,;green;,;   09/15/17 \n",
    ", Leticia Manning;,;$15.70 ;,; green&purple;,; \n",
    "09/15/17 ,   Mario Wallace ;,; $12.36 ;,;green ;,; \n",
    "09/15/17,Lewis Glover;,;   $13.66   ;,;   \n",
    "green&white;,;09/15/17,   Gail Phelps   ;,;$30.52   \n",
    ";,; green&white&blue   ;,; 09/15/17 , Myrtle Morris \n",
    ";,;   $22.66   ;,; green&white&blue;,;09/15/17\"\"\"\n",
    "\n",
    "daily_sales_replaced = daily_sales.replace(';,;', '+')\n",
    "\n",
    "daily_transactions = daily_sales_replaced.split(',')\n",
    "\n",
    "print(daily_transactions)"
   ]
  },
  {
   "cell_type": "code",
   "execution_count": 2,
   "id": "d68f075a",
   "metadata": {},
   "outputs": [
    {
     "name": "stdout",
     "output_type": "stream",
     "text": [
      "[['Edith Mcbride   ', '$1.21   ', '   white ', ' \\n09/15/17   '], ['Herbert Tran   ', '   $7.29', ' \\nwhite&blue', '   09/15/17 '], ['Paul Clarke ', '$12.52 \\n', '   white&blue ', ' 09/15/17 '], ['Lucille Caldwell   \\n', '   $5.13   ', ' white   ', ' 09/15/17'], ['\\nEduardo George   ', '$20.39', ' white&yellow \\n', '09/15/17   '], ['   Danny Mclaughlin', '$30.82', '   \\npurple ', '09/15/17 '], ['Stacy Vargas', ' $1.85   ', ' \\npurple&yellow ', '09/15/17'], ['   Shaun Brock', ' \\n$17.98', 'purple&yellow ', ' 09/15/17 '], [' \\nErick Harper ', '$17.41', ' blue ', ' 09/15/17'], [' \\nMichelle Howell ', '$28.59', ' blue', '   09/15/17   '], [' \\nCarroll Boyd', ' $14.51', '   purple&blue   ', '   \\n09/15/17   '], [' Teresa Carter   ', ' $19.64 ', ' \\nwhite', '09/15/17   '], ['   Jacob Kennedy ', ' $11.40   \\n', ' white&red   ', ' 09/15/17'], [' Craig Chambers', ' \\n$8.79 ', ' white&blue&red   ', '09/15/17   '], [' Peggy Bell', ' $8.65 ', 'blue   ', ' 09/15/17'], ['   Kenneth Cunningham ', '   $10.53', '   green&blue   ', ' \\n09/15/17   '], ['   Marvin Morgan', '   $16.49', ' \\ngreen&blue&red   ', '   09/15/17 '], ['Marjorie Russell \\n', ' $6.55 ', '   green&blue&red', '   09/15/17 '], ['\\nIsrael Cummings', '   $11.86   ', 'black', '  \\n09/15/17'], ['   June Doyle   ', '   $22.29 ', '  \\nblack&yellow ', '09/15/17 '], [' Jaime Buchanan   ', '   \\n$8.35', '   white&black&yellow   ', '   09/15/17'], ['   \\nRhonda Farmer', '$2.91 ', '   white&black&yellow   \\n', '09/15/17'], [' Darren Mckenzie ', '$22.94', 'green \\n', '09/15/17'], ['Rufus Malone', '$4.70   ', ' green&yellow \\n', ' 09/15/17   '], ['Hubert Miles', '   $3.59   \\n', 'green&yellow&blue', '   09/15/17   '], [' Joseph Bridges  ', '$5.66   ', ' green&yellow&purple&blue \\n', '   09/15/17 '], [' Sergio Murphy   ', '$17.51   ', '   \\nblack   ', '   09/15/17 '], [' Audrey Ferguson ', ' \\n$5.54', 'black&blue   ', '09/15/17 '], ['Edna Williams ', ' \\n$17.13', ' black&blue', '   09/15/17'], ['   Randy Fleming', '   $21.13 ', 'black ', '09/15/17 '], ['Elisa Hart', ' $0.35   ', ' black&purple', '   09/15/17   '], ['\\nErnesto Hunt ', ' $13.91   ', '   black&purple ', '   \\n09/15/17'], ['   Shannon Chavez   ', '$19.26   ', ' \\nyellow', ' 09/15/17   '], [' Sammy Cain', ' $5.45', '   \\nyellow&red ', '09/15/17 '], ['   Steven Reeves ', '$5.50   \\n', '   yellow', '   09/15/17'], [' Ruben Jones   ', ' \\n$14.56 ', '   yellow&blue', '09/15/17 '], [' Essie Hansen', '   $7.33   ', '   yellow&blue&red\\n', ' 09/15/17   '], ['   Rene Hardy   ', ' $20.22   ', ' \\nblack ', '   09/15/17 '], ['   Lucy Snyder   ', ' $8.67   \\n', 'black&red  ', ' 09/15/17 '], ['Dallas Obrien ', '   \\n$8.31', '   black&red ', '   09/15/17'], ['   Stacey Payne \\n', '   $15.70   ', '   white&black&red ', '09/15/17   \\n'], ['   Tanya Cox   ', '   $6.74   ', 'yellow   ', ' \\n09/15/17 '], [' Melody Moran ', '   $30.84   \\n', 'yellow&black', '   09/15/17 '], [' Louise Becker   ', ' \\n$12.31 ', ' green&yellow&black', '   09/15/17 '], ['\\nRyan Webster', '$2.94 ', ' yellow ', ' 09/15/17 \\n'], ['Justin Blake ', ' $22.46   ', 'white&yellow ', '   \\n09/15/17'], ['   Beverly Baldwin ', '   $6.60', '   \\nwhite&yellow&black ', '09/15/17   '], ['   Dale Brady   \\n', '   $6.27 ', ' yellow   ', '09/15/17 '], ['Guadalupe Potter ', '$21.12   ', ' yellow', ' 09/15/17   '], [' \\nDesiree Butler ', '$2.10   ', 'white', ' 09/15/17  \\n'], ['Sonja Barnett ', ' $14.22 ', 'white&black', '   \\n09/15/17'], [' Angelica Garza', '$11.60', 'white&black   \\n', '   09/15/17   '], ['   Jamie Welch   ', ' $25.27   ', ' \\nwhite&black&red ', '09/15/17   '], ['   Rex Hudson   \\n', '$8.26', '   purple', ' 09/15/17 '], ['   Nadine Gibbs \\n', '   $30.80 ', '   purple&yellow   ', ' 09/15/17   '], [' \\nHannah Pratt', '   $22.61   ', '   purple&yellow   \\n', '09/15/17'], ['Gayle Richards', '$22.19 ', ' \\ngreen&purple&yellow ', '09/15/17   '], ['Stanley Holland \\n', ' $7.47   ', ' red ', ' 09/15/17 '], [' Anna Dean', '$5.49 ', ' yellow&red ', '   09/15/17   '], ['\\nTerrance Saunders ', '   $23.70  ', 'green&yellow&red \\n', ' 09/15/17 '], ['   Brandi Zimmerman ', ' $26.66 ', ' \\nred   ', '09/15/17 '], ['Guadalupe Freeman ', ' $25.95', ' \\ngreen&red ', '   09/15/17   '], ['Irving Patterson \\n', '$19.55 ', ' green&white&red ', '   09/15/17 '], ['Karl Ross', '   $15.68', '   white ', '   09/15/17 '], [' Brandy Cortez ', '$23.57', '   white&red   ', '09/15/17'], [' \\nMamie Riley   ', '$29.32', ' purple', '09/15/17 '], ['Mike Thornton   ', ' $26.44 ', '   purple   ', ' 09/15/17'], [' \\nJamie Vaughn   ', ' $17.24', 'green ', ' 09/15/17   '], [' \\nNoah Day ', '   $8.49   ', 'green   ', '09/15/17   \\n'], ['Josephine Keller ', '$13.10 ', 'green', '   09/15/17 '], ['   Tracey Wolfe', '$20.39 ', ' red   ', ' 09/15/17 '], ['\\nIgnacio Parks', '$14.70   ', ' white&red ', '09/15/17 \\n'], [' Beatrice Newman ', '$22.45   ', 'white&purple&red \\n', '   09/15/17'], [' Andre Norris   ', '   $28.46   ', '   \\nred', '   09/15/17 '], ['   Albert Lewis ', ' $23.89', '   \\nblack&red', ' 09/15/17'], ['   Javier Bailey   ', '   \\n$24.49   ', ' black&red ', ' 09/15/17   '], [' Everett Lyons ', '$1.81', '   black&red ', ' 09/15/17 '], ['   \\nAbraham Maxwell', ' $6.81   ', 'green', '   09/15/17   \\n'], ['   Traci Craig ', '$0.65', ' green&yellow', ' \\n09/15/17 '], [' Jeffrey Jenkins   ', '$26.45', ' \\ngreen&yellow&blue   ', '   09/15/17'], ['   Merle Wilson \\n', '   $7.69 ', ' purple', ' 09/15/17'], ['Janis Franklin   \\n', '$8.74   ', ' purple&black   ', '09/15/17 '], ['  \\nLeonard Guerrero ', '   $1.86   ', 'yellow  \\n', '09/15/17'], ['Lana Sanchez', '$14.75   ', ' yellow', '   \\n09/15/17   '], ['Donna Ball ', ' $28.10  ', ' \\nyellow&blue', '   09/15/17   '], [' Terrell Barber   ', ' \\n$9.91   ', ' green ', '09/15/17   '], ['Jody Flores', ' \\n$16.34 ', ' green ', '   09/15/17'], ['   Daryl Herrera \\n', '$27.57', ' white', '   09/15/17   '], [' Miguel Mcguire', '$5.25', ' white&blue   ', '   09/15/17 '], ['   \\nRogelio Gonzalez', ' $9.51', '   white&black&blue   \\n', '   09/15/17   '], ['   Lora Hammond ', '$20.56 ', ' \\ngreen', '   09/15/17'], ['Owen Ward', ' $21.64   ', '   \\ngreen&yellow', '09/15/17'], ['Malcolm Morales ', '   \\n$24.99   ', '   green&yellow&black', ' 09/15/17 '], ['   \\nEric Mcdaniel ', '$29.70', ' green ', ' 09/15/17 \\n'], ['Madeline Estrada', '   $15.52', 'green', '   09/15/17 \\n'], [' Leticia Manning', '$15.70 ', ' green&purple', ' \\n09/15/17 '], ['   Mario Wallace ', ' $12.36 ', 'green ', ' \\n09/15/17'], ['Lewis Glover', '   $13.66   ', '   \\ngreen&white', '09/15/17'], ['   Gail Phelps   ', '$30.52   \\n', ' green&white&blue   ', ' 09/15/17 '], [' Myrtle Morris \\n', '   $22.66   ', ' green&white&blue', '09/15/17']]\n"
     ]
    }
   ],
   "source": [
    "#split the strings at the + and append to new string\n",
    "\n",
    "daily_transactions_split = []\n",
    "for string in daily_transactions:\n",
    "  daily_transactions_split.append(string.split('+'))\n",
    "\n",
    "print(daily_transactions_split)"
   ]
  },
  {
   "cell_type": "code",
   "execution_count": 3,
   "id": "83422793",
   "metadata": {},
   "outputs": [
    {
     "name": "stdout",
     "output_type": "stream",
     "text": [
      "[['Edith Mcbride', '$1.21', 'white', '09/15/17'], ['Herbert Tran', '$7.29', 'white&blue', '09/15/17'], ['Paul Clarke', '$12.52', 'white&blue', '09/15/17'], ['Lucille Caldwell', '$5.13', 'white', '09/15/17'], ['Eduardo George', '$20.39', 'white&yellow', '09/15/17'], ['Danny Mclaughlin', '$30.82', 'purple', '09/15/17'], ['Stacy Vargas', '$1.85', 'purple&yellow', '09/15/17'], ['Shaun Brock', '$17.98', 'purple&yellow', '09/15/17'], ['Erick Harper', '$17.41', 'blue', '09/15/17'], ['Michelle Howell', '$28.59', 'blue', '09/15/17'], ['Carroll Boyd', '$14.51', 'purple&blue', '09/15/17'], ['Teresa Carter', '$19.64', 'white', '09/15/17'], ['Jacob Kennedy', '$11.40', 'white&red', '09/15/17'], ['Craig Chambers', '$8.79', 'white&blue&red', '09/15/17'], ['Peggy Bell', '$8.65', 'blue', '09/15/17'], ['Kenneth Cunningham', '$10.53', 'green&blue', '09/15/17'], ['Marvin Morgan', '$16.49', 'green&blue&red', '09/15/17'], ['Marjorie Russell', '$6.55', 'green&blue&red', '09/15/17'], ['Israel Cummings', '$11.86', 'black', '09/15/17'], ['June Doyle', '$22.29', 'black&yellow', '09/15/17'], ['Jaime Buchanan', '$8.35', 'white&black&yellow', '09/15/17'], ['Rhonda Farmer', '$2.91', 'white&black&yellow', '09/15/17'], ['Darren Mckenzie', '$22.94', 'green', '09/15/17'], ['Rufus Malone', '$4.70', 'green&yellow', '09/15/17'], ['Hubert Miles', '$3.59', 'green&yellow&blue', '09/15/17'], ['Joseph Bridges', '$5.66', 'green&yellow&purple&blue', '09/15/17'], ['Sergio Murphy', '$17.51', 'black', '09/15/17'], ['Audrey Ferguson', '$5.54', 'black&blue', '09/15/17'], ['Edna Williams', '$17.13', 'black&blue', '09/15/17'], ['Randy Fleming', '$21.13', 'black', '09/15/17'], ['Elisa Hart', '$0.35', 'black&purple', '09/15/17'], ['Ernesto Hunt', '$13.91', 'black&purple', '09/15/17'], ['Shannon Chavez', '$19.26', 'yellow', '09/15/17'], ['Sammy Cain', '$5.45', 'yellow&red', '09/15/17'], ['Steven Reeves', '$5.50', 'yellow', '09/15/17'], ['Ruben Jones', '$14.56', 'yellow&blue', '09/15/17'], ['Essie Hansen', '$7.33', 'yellow&blue&red', '09/15/17'], ['Rene Hardy', '$20.22', 'black', '09/15/17'], ['Lucy Snyder', '$8.67', 'black&red', '09/15/17'], ['Dallas Obrien', '$8.31', 'black&red', '09/15/17'], ['Stacey Payne', '$15.70', 'white&black&red', '09/15/17'], ['Tanya Cox', '$6.74', 'yellow', '09/15/17'], ['Melody Moran', '$30.84', 'yellow&black', '09/15/17'], ['Louise Becker', '$12.31', 'green&yellow&black', '09/15/17'], ['Ryan Webster', '$2.94', 'yellow', '09/15/17'], ['Justin Blake', '$22.46', 'white&yellow', '09/15/17'], ['Beverly Baldwin', '$6.60', 'white&yellow&black', '09/15/17'], ['Dale Brady', '$6.27', 'yellow', '09/15/17'], ['Guadalupe Potter', '$21.12', 'yellow', '09/15/17'], ['Desiree Butler', '$2.10', 'white', '09/15/17'], ['Sonja Barnett', '$14.22', 'white&black', '09/15/17'], ['Angelica Garza', '$11.60', 'white&black', '09/15/17'], ['Jamie Welch', '$25.27', 'white&black&red', '09/15/17'], ['Rex Hudson', '$8.26', 'purple', '09/15/17'], ['Nadine Gibbs', '$30.80', 'purple&yellow', '09/15/17'], ['Hannah Pratt', '$22.61', 'purple&yellow', '09/15/17'], ['Gayle Richards', '$22.19', 'green&purple&yellow', '09/15/17'], ['Stanley Holland', '$7.47', 'red', '09/15/17'], ['Anna Dean', '$5.49', 'yellow&red', '09/15/17'], ['Terrance Saunders', '$23.70', 'green&yellow&red', '09/15/17'], ['Brandi Zimmerman', '$26.66', 'red', '09/15/17'], ['Guadalupe Freeman', '$25.95', 'green&red', '09/15/17'], ['Irving Patterson', '$19.55', 'green&white&red', '09/15/17'], ['Karl Ross', '$15.68', 'white', '09/15/17'], ['Brandy Cortez', '$23.57', 'white&red', '09/15/17'], ['Mamie Riley', '$29.32', 'purple', '09/15/17'], ['Mike Thornton', '$26.44', 'purple', '09/15/17'], ['Jamie Vaughn', '$17.24', 'green', '09/15/17'], ['Noah Day', '$8.49', 'green', '09/15/17'], ['Josephine Keller', '$13.10', 'green', '09/15/17'], ['Tracey Wolfe', '$20.39', 'red', '09/15/17'], ['Ignacio Parks', '$14.70', 'white&red', '09/15/17'], ['Beatrice Newman', '$22.45', 'white&purple&red', '09/15/17'], ['Andre Norris', '$28.46', 'red', '09/15/17'], ['Albert Lewis', '$23.89', 'black&red', '09/15/17'], ['Javier Bailey', '$24.49', 'black&red', '09/15/17'], ['Everett Lyons', '$1.81', 'black&red', '09/15/17'], ['Abraham Maxwell', '$6.81', 'green', '09/15/17'], ['Traci Craig', '$0.65', 'green&yellow', '09/15/17'], ['Jeffrey Jenkins', '$26.45', 'green&yellow&blue', '09/15/17'], ['Merle Wilson', '$7.69', 'purple', '09/15/17'], ['Janis Franklin', '$8.74', 'purple&black', '09/15/17'], ['Leonard Guerrero', '$1.86', 'yellow', '09/15/17'], ['Lana Sanchez', '$14.75', 'yellow', '09/15/17'], ['Donna Ball', '$28.10', 'yellow&blue', '09/15/17'], ['Terrell Barber', '$9.91', 'green', '09/15/17'], ['Jody Flores', '$16.34', 'green', '09/15/17'], ['Daryl Herrera', '$27.57', 'white', '09/15/17'], ['Miguel Mcguire', '$5.25', 'white&blue', '09/15/17'], ['Rogelio Gonzalez', '$9.51', 'white&black&blue', '09/15/17'], ['Lora Hammond', '$20.56', 'green', '09/15/17'], ['Owen Ward', '$21.64', 'green&yellow', '09/15/17'], ['Malcolm Morales', '$24.99', 'green&yellow&black', '09/15/17'], ['Eric Mcdaniel', '$29.70', 'green', '09/15/17'], ['Madeline Estrada', '$15.52', 'green', '09/15/17'], ['Leticia Manning', '$15.70', 'green&purple', '09/15/17'], ['Mario Wallace', '$12.36', 'green', '09/15/17'], ['Lewis Glover', '$13.66', 'green&white', '09/15/17'], ['Gail Phelps', '$30.52', 'green&white&blue', '09/15/17'], ['Myrtle Morris', '$22.66', 'green&white&blue', '09/15/17']]\n"
     ]
    }
   ],
   "source": [
    "#this was tricky -- there are nested strings so you need two levels of for loops\n",
    "#also replaced the new line character at the same time -- data.replace().strip()\n",
    "\n",
    "transactions_clean = []\n",
    "\n",
    "for tr in daily_transactions_split:\n",
    "  transaction_clean = []\n",
    "  for data in tr:\n",
    "    transaction_clean.append(data.replace(\"\\n\", \"\").strip(\" \"))\n",
    "  transactions_clean.append(transaction_clean)\n",
    "\n",
    "print(transactions_clean)"
   ]
  },
  {
   "cell_type": "code",
   "execution_count": 4,
   "id": "e7801dab",
   "metadata": {},
   "outputs": [
    {
     "name": "stdout",
     "output_type": "stream",
     "text": [
      "['Edith Mcbride', 'Herbert Tran', 'Paul Clarke', 'Lucille Caldwell', 'Eduardo George', 'Danny Mclaughlin', 'Stacy Vargas', 'Shaun Brock', 'Erick Harper', 'Michelle Howell', 'Carroll Boyd', 'Teresa Carter', 'Jacob Kennedy', 'Craig Chambers', 'Peggy Bell', 'Kenneth Cunningham', 'Marvin Morgan', 'Marjorie Russell', 'Israel Cummings', 'June Doyle', 'Jaime Buchanan', 'Rhonda Farmer', 'Darren Mckenzie', 'Rufus Malone', 'Hubert Miles', 'Joseph Bridges', 'Sergio Murphy', 'Audrey Ferguson', 'Edna Williams', 'Randy Fleming', 'Elisa Hart', 'Ernesto Hunt', 'Shannon Chavez', 'Sammy Cain', 'Steven Reeves', 'Ruben Jones', 'Essie Hansen', 'Rene Hardy', 'Lucy Snyder', 'Dallas Obrien', 'Stacey Payne', 'Tanya Cox', 'Melody Moran', 'Louise Becker', 'Ryan Webster', 'Justin Blake', 'Beverly Baldwin', 'Dale Brady', 'Guadalupe Potter', 'Desiree Butler', 'Sonja Barnett', 'Angelica Garza', 'Jamie Welch', 'Rex Hudson', 'Nadine Gibbs', 'Hannah Pratt', 'Gayle Richards', 'Stanley Holland', 'Anna Dean', 'Terrance Saunders', 'Brandi Zimmerman', 'Guadalupe Freeman', 'Irving Patterson', 'Karl Ross', 'Brandy Cortez', 'Mamie Riley', 'Mike Thornton', 'Jamie Vaughn', 'Noah Day', 'Josephine Keller', 'Tracey Wolfe', 'Ignacio Parks', 'Beatrice Newman', 'Andre Norris', 'Albert Lewis', 'Javier Bailey', 'Everett Lyons', 'Abraham Maxwell', 'Traci Craig', 'Jeffrey Jenkins', 'Merle Wilson', 'Janis Franklin', 'Leonard Guerrero', 'Lana Sanchez', 'Donna Ball', 'Terrell Barber', 'Jody Flores', 'Daryl Herrera', 'Miguel Mcguire', 'Rogelio Gonzalez', 'Lora Hammond', 'Owen Ward', 'Malcolm Morales', 'Eric Mcdaniel', 'Madeline Estrada', 'Leticia Manning', 'Mario Wallace', 'Lewis Glover', 'Gail Phelps', 'Myrtle Morris']\n",
      "['$1.21', '$7.29', '$12.52', '$5.13', '$20.39', '$30.82', '$1.85', '$17.98', '$17.41', '$28.59', '$14.51', '$19.64', '$11.40', '$8.79', '$8.65', '$10.53', '$16.49', '$6.55', '$11.86', '$22.29', '$8.35', '$2.91', '$22.94', '$4.70', '$3.59', '$5.66', '$17.51', '$5.54', '$17.13', '$21.13', '$0.35', '$13.91', '$19.26', '$5.45', '$5.50', '$14.56', '$7.33', '$20.22', '$8.67', '$8.31', '$15.70', '$6.74', '$30.84', '$12.31', '$2.94', '$22.46', '$6.60', '$6.27', '$21.12', '$2.10', '$14.22', '$11.60', '$25.27', '$8.26', '$30.80', '$22.61', '$22.19', '$7.47', '$5.49', '$23.70', '$26.66', '$25.95', '$19.55', '$15.68', '$23.57', '$29.32', '$26.44', '$17.24', '$8.49', '$13.10', '$20.39', '$14.70', '$22.45', '$28.46', '$23.89', '$24.49', '$1.81', '$6.81', '$0.65', '$26.45', '$7.69', '$8.74', '$1.86', '$14.75', '$28.10', '$9.91', '$16.34', '$27.57', '$5.25', '$9.51', '$20.56', '$21.64', '$24.99', '$29.70', '$15.52', '$15.70', '$12.36', '$13.66', '$30.52', '$22.66']\n",
      "['white', 'white&blue', 'white&blue', 'white', 'white&yellow', 'purple', 'purple&yellow', 'purple&yellow', 'blue', 'blue', 'purple&blue', 'white', 'white&red', 'white&blue&red', 'blue', 'green&blue', 'green&blue&red', 'green&blue&red', 'black', 'black&yellow', 'white&black&yellow', 'white&black&yellow', 'green', 'green&yellow', 'green&yellow&blue', 'green&yellow&purple&blue', 'black', 'black&blue', 'black&blue', 'black', 'black&purple', 'black&purple', 'yellow', 'yellow&red', 'yellow', 'yellow&blue', 'yellow&blue&red', 'black', 'black&red', 'black&red', 'white&black&red', 'yellow', 'yellow&black', 'green&yellow&black', 'yellow', 'white&yellow', 'white&yellow&black', 'yellow', 'yellow', 'white', 'white&black', 'white&black', 'white&black&red', 'purple', 'purple&yellow', 'purple&yellow', 'green&purple&yellow', 'red', 'yellow&red', 'green&yellow&red', 'red', 'green&red', 'green&white&red', 'white', 'white&red', 'purple', 'purple', 'green', 'green', 'green', 'red', 'white&red', 'white&purple&red', 'red', 'black&red', 'black&red', 'black&red', 'green', 'green&yellow', 'green&yellow&blue', 'purple', 'purple&black', 'yellow', 'yellow', 'yellow&blue', 'green', 'green', 'white', 'white&blue', 'white&black&blue', 'green', 'green&yellow', 'green&yellow&black', 'green', 'green', 'green&purple', 'green', 'green&white', 'green&white&blue', 'green&white&blue']\n"
     ]
    }
   ],
   "source": [
    "#Split these strings and add them to three blank strings\n",
    "\n",
    "customers = []\n",
    "sales = []\n",
    "thread_sold = []\n",
    "\n",
    "for transaction in transactions_clean:\n",
    "  customers.append(transaction[0])\n",
    "  sales.append(transaction[1])\n",
    "  thread_sold.append(transaction[2])\n",
    "\n",
    "print(customers)\n",
    "print(sales)\n",
    "print(thread_sold)"
   ]
  },
  {
   "cell_type": "code",
   "execution_count": 5,
   "id": "b486e868",
   "metadata": {},
   "outputs": [
    {
     "name": "stdout",
     "output_type": "stream",
     "text": [
      "1498.7400000000005\n"
     ]
    }
   ],
   "source": [
    "#strip $ and turn string into float to add to total sales\n",
    "\n",
    "total_sales = 0\n",
    "\n",
    "for sale in sales:\n",
    "  x = sale.strip('$')\n",
    "  total_sales += float(x)\n",
    "\n",
    "print(total_sales)"
   ]
  },
  {
   "cell_type": "code",
   "execution_count": 6,
   "id": "2154dcf1",
   "metadata": {},
   "outputs": [
    {
     "name": "stdout",
     "output_type": "stream",
     "text": [
      "['white', 'white', 'blue', 'white', 'blue', 'white', 'white', 'yellow', 'purple', 'purple', 'yellow', 'purple', 'yellow', 'blue', 'blue', 'purple', 'blue', 'white', 'white', 'red', 'white', 'blue', 'red', 'blue', 'green', 'blue', 'green', 'blue', 'red', 'green', 'blue', 'red', 'black', 'black', 'yellow', 'white', 'black', 'yellow', 'white', 'black', 'yellow', 'green', 'green', 'yellow', 'green', 'yellow', 'blue', 'green', 'yellow', 'purple', 'blue', 'black', 'black', 'blue', 'black', 'blue', 'black', 'black', 'purple', 'black', 'purple', 'yellow', 'yellow', 'red', 'yellow', 'yellow', 'blue', 'yellow', 'blue', 'red', 'black', 'black', 'red', 'black', 'red', 'white', 'black', 'red', 'yellow', 'yellow', 'black', 'green', 'yellow', 'black', 'yellow', 'white', 'yellow', 'white', 'yellow', 'black', 'yellow', 'yellow', 'white', 'white', 'black', 'white', 'black', 'white', 'black', 'red', 'purple', 'purple', 'yellow', 'purple', 'yellow', 'green', 'purple', 'yellow', 'red', 'yellow', 'red', 'green', 'yellow', 'red', 'red', 'green', 'red', 'green', 'white', 'red', 'white', 'white', 'red', 'purple', 'purple', 'green', 'green', 'green', 'red', 'white', 'red', 'white', 'purple', 'red', 'red', 'black', 'red', 'black', 'red', 'black', 'red', 'green', 'green', 'yellow', 'green', 'yellow', 'blue', 'purple', 'purple', 'black', 'yellow', 'yellow', 'yellow', 'blue', 'green', 'green', 'white', 'white', 'blue', 'white', 'black', 'blue', 'green', 'green', 'yellow', 'green', 'yellow', 'black', 'green', 'green', 'green', 'purple', 'green', 'green', 'white', 'green', 'white', 'blue', 'green', 'white', 'blue']\n"
     ]
    }
   ],
   "source": [
    "#split at & if there is one and append -- this also appends ones with no & and I don't know why\n",
    "\n",
    "thread_sold_split = []\n",
    "for thread in thread_sold:\n",
    "  for color in thread.split('&'):\n",
    "    thread_sold_split.append(color)\n",
    " \n",
    "print(thread_sold_split)"
   ]
  },
  {
   "cell_type": "code",
   "execution_count": 7,
   "id": "aa3a16ce",
   "metadata": {},
   "outputs": [
    {
     "name": "stdout",
     "output_type": "stream",
     "text": [
      "28\n"
     ]
    }
   ],
   "source": [
    "#create function to count totals\n",
    "\n",
    "def color_count(color):\n",
    "  count = 0\n",
    "  for c in thread_sold_split:\n",
    "    if c == color:\n",
    "      count += 1\n",
    "  return count\n",
    "\n",
    "print(color_count('white'))"
   ]
  },
  {
   "cell_type": "code",
   "execution_count": 8,
   "id": "acb3964f",
   "metadata": {},
   "outputs": [
    {
     "name": "stdout",
     "output_type": "stream",
     "text": [
      "Thread Shed sold 24 threads of red thread today.\n",
      "Thread Shed sold 34 threads of yellow thread today.\n",
      "Thread Shed sold 30 threads of green thread today.\n",
      "Thread Shed sold 28 threads of white thread today.\n",
      "Thread Shed sold 26 threads of black thread today.\n",
      "Thread Shed sold 22 threads of blue thread today.\n",
      "Thread Shed sold 17 threads of purple thread today.\n"
     ]
    }
   ],
   "source": [
    "#tricky! did not know you could use a function in .format()\n",
    "\n",
    "colors = ['red', 'yellow', 'green', 'white', 'black', 'blue', 'purple']\n",
    "\n",
    "\n",
    "for color in colors:\n",
    "  print(\n",
    "    \"Thread Shed sold {0} threads of {1} thread today.\"\n",
    "    .format(color_count(color), color))"
   ]
  },
  {
   "cell_type": "code",
   "execution_count": null,
   "id": "be9fcd30",
   "metadata": {},
   "outputs": [],
   "source": []
  }
 ],
 "metadata": {
  "kernelspec": {
   "display_name": "Python 3 (ipykernel)",
   "language": "python",
   "name": "python3"
  },
  "language_info": {
   "codemirror_mode": {
    "name": "ipython",
    "version": 3
   },
   "file_extension": ".py",
   "mimetype": "text/x-python",
   "name": "python",
   "nbconvert_exporter": "python",
   "pygments_lexer": "ipython3",
   "version": "3.9.7"
  }
 },
 "nbformat": 4,
 "nbformat_minor": 5
}
